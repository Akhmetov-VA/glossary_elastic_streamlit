{
 "cells": [
  {
   "cell_type": "code",
   "execution_count": 1,
   "metadata": {},
   "outputs": [],
   "source": [
    "import re\n",
    "import os\n",
    "import pandas as pd\n",
    "from PyPDF2 import PdfReader\n",
    "import easyocr\n",
    "import numpy as np\n",
    "from pdf2image import convert_from_path\n",
    "import pymorphy2\n",
    "from pymorphy2 import MorphAnalyzer"
   ]
  },
  {
   "cell_type": "code",
   "execution_count": 2,
   "metadata": {},
   "outputs": [],
   "source": [
    "morph = MorphAnalyzer()"
   ]
  },
  {
   "cell_type": "code",
   "execution_count": 3,
   "metadata": {},
   "outputs": [],
   "source": [
    "reader_ml = easyocr.Reader(['ru', 'en'], gpu=True)  \n",
    "\n",
    "\n",
    "def get_info_from_pdf(pdf: 'str'): \n",
    "    \"\"\"На вход функции подаётся адрес до pdf-документа\"\"\"\n",
    "    \n",
    "    \n",
    "\n",
    "    # ШАГ 1: пробуем распознать \"digitally-created PDF\":\n",
    "    pdf_text_list = []\n",
    "    # ридер из PyPDF2:\n",
    "    reader = PdfReader(pdf)\n",
    "\n",
    "    # собираем информацию с каждой страницы pdf-документа...:\n",
    "    number_of_pages = len(reader.pages)\n",
    "    for i in range(number_of_pages):\n",
    "        page = reader.pages[i]\n",
    "        try:\n",
    "            text = page.extract_text()        \n",
    "            if text != '': # если текст на странице НЕ пустой\n",
    "                text = re.split('/n|\\n', text)  # делим построчно, сохраняя структуру документа\n",
    "                pdf_text_list.extend(text) # добавляем в единый список текста всей pdf\n",
    "        except:\n",
    "            pdf_text_list = []\n",
    "\n",
    "    # если полученный список не пустой...:\n",
    "    if pdf_text_list != []:\n",
    "        is_digit = True\n",
    "        good_pdf_quality = True\n",
    "        pdf_text_info = pdf_text_list\n",
    "\n",
    "    # ШАГ 2: если это не цифровая pdf, а картинка - исползуем EasyOCR:\n",
    "    else:\n",
    "        is_digit = False\n",
    "\n",
    "        regular_pattern = re.compile(r'\\w\\w')\n",
    "\n",
    "        # ридер из EasyOCR:\n",
    "        image = convert_from_path(pdf)\n",
    "        image_text_list = []\n",
    "        for page in range(len(image)):\n",
    "            page_np_array = np.array(image[page])\n",
    "            text = reader_ml.readtext(page_np_array, detail = 0, paragraph=True) \n",
    "            image_text_list.extend(text)\n",
    "        \n",
    "        pdf_text_info = image_text_list\n",
    "        \n",
    "\n",
    "        # оцениваем качество распознвания EasyOCR:\n",
    "        text_recognition_score = []\n",
    "        for string in image_text_list:\n",
    "            count = 0\n",
    "            bad = 0\n",
    "            for word in regular_pattern.findall(string):\n",
    "                count += 1\n",
    "                parsed_info = morph.parse(word)[0]\n",
    "                bad += (not parsed_info.tag.POS or \n",
    "                    isinstance(parsed_info.methods_stack[0][0], pymorphy2.units.by_analogy.KnownSuffixAnalyzer.FakeDictionary)) # FakeDictionary - значит, что текст не распознан\n",
    "            try:\n",
    "                text_recognition_score.append(bad/count) # по каждой строке добавялем скор-отношение плохо распознанных слов к количеству всех слов\n",
    "            except:\n",
    "                text_recognition_score.append(0.5) # если добавить не получилось - добавляем среднее значение 0.5\n",
    "\n",
    "\n",
    "        # высчитываем средний скор по всем строкам:\n",
    "        avg_text_recognition_score = sum(text_recognition_score) / len(text_recognition_score)\n",
    "        if avg_text_recognition_score > 0.75:\n",
    "            good_pdf_quality = False\n",
    "        else:\n",
    "            good_pdf_quality = True\n",
    "\n",
    "\n",
    "    return pdf_text_info, is_digit, good_pdf_quality"
   ]
  },
  {
   "cell_type": "code",
   "execution_count": 4,
   "metadata": {},
   "outputs": [],
   "source": [
    "from tqdm import tqdm"
   ]
  },
  {
   "cell_type": "code",
   "execution_count": 6,
   "metadata": {},
   "outputs": [
    {
     "name": "stderr",
     "output_type": "stream",
     "text": [
      " 16%|█▌        | 53/333 [03:35<05:29,  1.18s/it]  "
     ]
    },
    {
     "name": "stdout",
     "output_type": "stream",
     "text": [
      "/home/admin01/vadim/glossary/Канцелярия/Приказы по АХД  Дело 02 2014 год/Thumbs.db - тут живет ошибка\n"
     ]
    },
    {
     "name": "stderr",
     "output_type": "stream",
     "text": [
      " 82%|████████▏ | 273/333 [20:21<06:20,  6.35s/it]  "
     ]
    },
    {
     "name": "stdout",
     "output_type": "stream",
     "text": [
      "/home/admin01/vadim/glossary/Канцелярия/Приказы по АХД  Дело 02 2014 год/Приложения к 02-191-14 - тут живет ошибка\n"
     ]
    },
    {
     "name": "stderr",
     "output_type": "stream",
     "text": [
      "100%|██████████| 333/333 [24:11<00:00,  4.36s/it]\n",
      " 16%|█▌        | 231/1435 [00:12<00:49, 24.23it/s]"
     ]
    },
    {
     "name": "stdout",
     "output_type": "stream",
     "text": [
      "/home/admin01/vadim/glossary/Канцелярия/Приказы АХД 2021 год/02-33-21-pril.xlsx - тут живет ошибка\n"
     ]
    },
    {
     "name": "stderr",
     "output_type": "stream",
     "text": [
      " 17%|█▋        | 241/1435 [00:13<00:47, 25.16it/s]"
     ]
    },
    {
     "name": "stdout",
     "output_type": "stream",
     "text": [
      "/home/admin01/vadim/glossary/Канцелярия/Приказы АХД 2021 год/Thumbs.db - тут живет ошибка\n"
     ]
    },
    {
     "name": "stderr",
     "output_type": "stream",
     "text": [
      " 18%|█▊        | 252/1435 [00:15<02:09,  9.13it/s]"
     ]
    },
    {
     "name": "stdout",
     "output_type": "stream",
     "text": [
      "/home/admin01/vadim/glossary/Канцелярия/Приказы АХД 2021 год/02-80-21_2 Приложение к  программе_функ расх.xlsx - тут живет ошибка\n"
     ]
    },
    {
     "name": "stderr",
     "output_type": "stream",
     "text": [
      " 21%|██        | 297/1435 [00:17<00:48, 23.67it/s]"
     ]
    },
    {
     "name": "stdout",
     "output_type": "stream",
     "text": [
      "/home/admin01/vadim/glossary/Канцелярия/Приказы АХД 2021 год/02-434-21_Приложение №4.docx - тут живет ошибка\n",
      "/home/admin01/vadim/glossary/Канцелярия/Приказы АХД 2021 год/02-80-21_1 Приложение к программе_доходы.xls - тут живет ошибка\n"
     ]
    },
    {
     "name": "stderr",
     "output_type": "stream",
     "text": [
      " 35%|███▍      | 501/1435 [00:29<00:31, 29.79it/s]"
     ]
    },
    {
     "name": "stdout",
     "output_type": "stream",
     "text": [
      "/home/admin01/vadim/glossary/Канцелярия/Приказы АХД 2021 год/02-80-21_3 Приложение к  программе_источники.xlsx - тут живет ошибка\n"
     ]
    },
    {
     "name": "stderr",
     "output_type": "stream",
     "text": [
      " 46%|████▌     | 656/1435 [01:09<00:27, 28.79it/s]"
     ]
    },
    {
     "name": "stdout",
     "output_type": "stream",
     "text": [
      "/home/admin01/vadim/glossary/Канцелярия/Приказы АХД 2021 год/02-434-21_Приложение №3.docx - тут живет ошибка\n"
     ]
    },
    {
     "name": "stderr",
     "output_type": "stream",
     "text": [
      " 51%|█████     | 729/1435 [01:13<00:24, 28.57it/s]"
     ]
    },
    {
     "name": "stdout",
     "output_type": "stream",
     "text": [
      "/home/admin01/vadim/glossary/Канцелярия/Приказы АХД 2021 год/02-80-21_8 Приложение к программе_неисполнение.xlsx - тут живет ошибка\n"
     ]
    },
    {
     "name": "stderr",
     "output_type": "stream",
     "text": [
      " 54%|█████▎    | 770/1435 [01:14<00:24, 27.48it/s]"
     ]
    },
    {
     "name": "stdout",
     "output_type": "stream",
     "text": [
      "/home/admin01/vadim/glossary/Канцелярия/Приказы АХД 2021 год/02-80-21_13 приложение к программе_закупки ковид.xlsx - тут живет ошибка\n"
     ]
    },
    {
     "name": "stderr",
     "output_type": "stream",
     "text": [
      " 56%|█████▌    | 805/1435 [01:16<00:21, 29.33it/s]"
     ]
    },
    {
     "name": "stdout",
     "output_type": "stream",
     "text": [
      "/home/admin01/vadim/glossary/Канцелярия/Приказы АХД 2021 год/02-434-21_Приложение №2.docx - тут живет ошибка\n"
     ]
    },
    {
     "name": "stderr",
     "output_type": "stream",
     "text": [
      " 62%|██████▏   | 883/1435 [01:20<00:46, 11.94it/s]"
     ]
    },
    {
     "name": "stdout",
     "output_type": "stream",
     "text": [
      "/home/admin01/vadim/glossary/Канцелярия/Приказы АХД 2021 год/02-80-21_15 приложение к программе_таблицы по имуществу_.xlsx - тут живет ошибка\n"
     ]
    },
    {
     "name": "stderr",
     "output_type": "stream",
     "text": [
      " 86%|████████▌ | 1231/1435 [01:44<00:08, 24.06it/s]"
     ]
    },
    {
     "name": "stdout",
     "output_type": "stream",
     "text": [
      "/home/admin01/vadim/glossary/Канцелярия/Приказы АХД 2021 год/02-80-21_14 Приложение к программе_цены ковид.xlsx - тут живет ошибка\n",
      "/home/admin01/vadim/glossary/Канцелярия/Приказы АХД 2021 год/02-80-21_12 Приложение к  программе_меры ковид.xlsx - тут живет ошибка\n"
     ]
    },
    {
     "name": "stderr",
     "output_type": "stream",
     "text": [
      " 91%|█████████ | 1307/1435 [01:48<00:03, 40.01it/s]"
     ]
    },
    {
     "name": "stdout",
     "output_type": "stream",
     "text": [
      "/home/admin01/vadim/glossary/Канцелярия/Приказы АХД 2021 год/02-434-21_Приложение №1.xlsx - тут живет ошибка\n"
     ]
    },
    {
     "name": "stderr",
     "output_type": "stream",
     "text": [
      " 98%|█████████▊| 1405/1435 [01:55<00:02, 12.06it/s]"
     ]
    },
    {
     "name": "stdout",
     "output_type": "stream",
     "text": [
      "/home/admin01/vadim/glossary/Канцелярия/Приказы АХД 2021 год/02-1384-21-pr.xlsx - тут живет ошибка\n"
     ]
    },
    {
     "name": "stderr",
     "output_type": "stream",
     "text": [
      "100%|██████████| 1435/1435 [01:56<00:00, 12.31it/s]\n",
      "  2%|▏         | 51/2203 [00:03<01:38, 21.76it/s]"
     ]
    },
    {
     "name": "stdout",
     "output_type": "stream",
     "text": [
      "/home/admin01/vadim/glossary/Канцелярия/Приказы АХД 2022 год/02-493-22_Приложение 5 Ведомость выполнения учебной работы.xlsx - тут живет ошибка\n"
     ]
    },
    {
     "name": "stderr",
     "output_type": "stream",
     "text": [
      "  7%|▋         | 150/2203 [00:07<00:48, 42.34it/s]"
     ]
    },
    {
     "name": "stdout",
     "output_type": "stream",
     "text": [
      "/home/admin01/vadim/glossary/Канцелярия/Приказы АХД 2022 год/02-493-22_Приложение 1 ИП ППС.xls - тут живет ошибка\n"
     ]
    },
    {
     "name": "stderr",
     "output_type": "stream",
     "text": [
      " 14%|█▎        | 301/2203 [00:15<01:14, 25.62it/s]"
     ]
    },
    {
     "name": "stdout",
     "output_type": "stream",
     "text": [
      "/home/admin01/vadim/glossary/Канцелярия/Приказы АХД 2022 год/Приложения к приказу № 02-2233 от 27.12.22 Об утверждении типовых форм ГПД возмездного оказания преподавательских услуг.docx - тут живет ошибка\n"
     ]
    },
    {
     "name": "stderr",
     "output_type": "stream",
     "text": [
      " 19%|█▉        | 418/2203 [00:20<00:57, 31.23it/s]"
     ]
    },
    {
     "name": "stdout",
     "output_type": "stream",
     "text": [
      "/home/admin01/vadim/glossary/Канцелярия/Приказы АХД 2022 год/Thumbs.db - тут живет ошибка\n"
     ]
    },
    {
     "name": "stderr",
     "output_type": "stream",
     "text": [
      " 70%|███████   | 1547/2203 [02:12<00:25, 25.33it/s]  "
     ]
    },
    {
     "name": "stdout",
     "output_type": "stream",
     "text": [
      "/home/admin01/vadim/glossary/Канцелярия/Приказы АХД 2022 год/02-493-22_Приложение 4 Карточка почасовика.xls - тут живет ошибка\n"
     ]
    },
    {
     "name": "stderr",
     "output_type": "stream",
     "text": [
      " 73%|███████▎  | 1615/2203 [02:14<00:18, 32.53it/s]"
     ]
    },
    {
     "name": "stdout",
     "output_type": "stream",
     "text": [
      "/home/admin01/vadim/glossary/Канцелярия/Приказы АХД 2022 год/02-493-22_Приложение 3 ИП почасовика.xls - тут живет ошибка\n"
     ]
    },
    {
     "name": "stderr",
     "output_type": "stream",
     "text": [
      " 77%|███████▋  | 1691/2203 [02:18<00:13, 38.37it/s]"
     ]
    },
    {
     "name": "stdout",
     "output_type": "stream",
     "text": [
      "/home/admin01/vadim/glossary/Канцелярия/Приказы АХД 2022 год/02-493-22_Приложение 2 Карточка штатного ППС.xls - тут живет ошибка\n"
     ]
    },
    {
     "name": "stderr",
     "output_type": "stream",
     "text": [
      " 87%|████████▋ | 1908/2203 [02:32<00:07, 36.88it/s]"
     ]
    },
    {
     "name": "stdout",
     "output_type": "stream",
     "text": [
      "/home/admin01/vadim/glossary/Канцелярия/Приказы АХД 2022 год/02-415-22-Приложение_Форма ВПО-2.XLS - тут живет ошибка\n"
     ]
    },
    {
     "name": "stderr",
     "output_type": "stream",
     "text": [
      " 88%|████████▊ | 1930/2203 [02:34<00:12, 22.05it/s]"
     ]
    },
    {
     "name": "stdout",
     "output_type": "stream",
     "text": [
      "/home/admin01/vadim/glossary/Канцелярия/Приказы АХД 2022 год/02-118-22-прил.doc - тут живет ошибка\n"
     ]
    },
    {
     "name": "stderr",
     "output_type": "stream",
     "text": [
      "100%|██████████| 2203/2203 [02:45<00:00, 13.28it/s]\n",
      " 10%|▉         | 1377/14026 [00:30<04:12, 50.03it/s]"
     ]
    },
    {
     "name": "stdout",
     "output_type": "stream",
     "text": [
      "/home/admin01/vadim/glossary/Канцелярия/Приказы ПО 2020 год/01-4859-20pr6.doc - тут живет ошибка\n"
     ]
    },
    {
     "name": "stderr",
     "output_type": "stream",
     "text": [
      " 18%|█▊        | 2500/14026 [00:58<05:08, 37.33it/s]"
     ]
    },
    {
     "name": "stdout",
     "output_type": "stream",
     "text": [
      "/home/admin01/vadim/glossary/Канцелярия/Приказы ПО 2020 год/Thumbs.db - тут живет ошибка\n"
     ]
    },
    {
     "name": "stderr",
     "output_type": "stream",
     "text": [
      " 31%|███       | 4302/14026 [01:37<03:36, 44.90it/s]"
     ]
    },
    {
     "name": "stdout",
     "output_type": "stream",
     "text": [
      "/home/admin01/vadim/glossary/Канцелярия/Приказы ПО 2020 год/01-4040-20-3.docx - тут живет ошибка\n"
     ]
    },
    {
     "name": "stderr",
     "output_type": "stream",
     "text": [
      " 79%|███████▉  | 11086/14026 [04:19<01:00, 48.57it/s] "
     ]
    },
    {
     "name": "stdout",
     "output_type": "stream",
     "text": [
      "/home/admin01/vadim/glossary/Канцелярия/Приказы ПО 2020 год/01-4859-20pr4.docx - тут живет ошибка\n"
     ]
    },
    {
     "name": "stderr",
     "output_type": "stream",
     "text": [
      " 81%|████████  | 11313/14026 [04:23<00:33, 80.53it/s]"
     ]
    },
    {
     "name": "stdout",
     "output_type": "stream",
     "text": [
      "/home/admin01/vadim/glossary/Канцелярия/Приказы ПО 2020 год/01-4040-20-2.xlsx - тут живет ошибка\n"
     ]
    },
    {
     "name": "stderr",
     "output_type": "stream",
     "text": [
      "100%|██████████| 14026/14026 [05:17<00:00, 44.22it/s]\n",
      " 18%|█▊        | 2288/12493 [01:53<09:07, 18.63it/s]  "
     ]
    },
    {
     "name": "stdout",
     "output_type": "stream",
     "text": [
      "/home/admin01/vadim/glossary/Канцелярия/Приказы ПО 2019 год/Thumbs.db - тут живет ошибка\n"
     ]
    },
    {
     "name": "stderr",
     "output_type": "stream",
     "text": [
      " 29%|██▊       | 3570/12493 [02:59<02:13, 66.60it/s]  "
     ]
    },
    {
     "name": "stdout",
     "output_type": "stream",
     "text": [
      "/home/admin01/vadim/glossary/Канцелярия/Приказы ПО 2019 год/01-4408-19-pril.xlsx - тут живет ошибка\n"
     ]
    },
    {
     "name": "stderr",
     "output_type": "stream",
     "text": [
      "100%|██████████| 12493/12493 [09:18<00:00, 22.36it/s] \n",
      " 19%|█▊        | 2169/11700 [00:27<02:01, 78.47it/s]"
     ]
    },
    {
     "name": "stdout",
     "output_type": "stream",
     "text": [
      "/home/admin01/vadim/glossary/Канцелярия/Демография 08/Thumbs.db - тут живет ошибка\n"
     ]
    },
    {
     "name": "stderr",
     "output_type": "stream",
     "text": [
      " 58%|█████▊    | 6844/11700 [01:25<01:09, 69.77it/s]"
     ]
    },
    {
     "name": "stdout",
     "output_type": "stream",
     "text": [
      "/home/admin01/vadim/glossary/Канцелярия/Демография 08/ТМР - тут живет ошибка\n"
     ]
    },
    {
     "name": "stderr",
     "output_type": "stream",
     "text": [
      "100%|██████████| 11700/11700 [02:26<00:00, 80.00it/s]\n",
      "  0%|          | 6/1477 [00:00<00:24, 58.88it/s]"
     ]
    },
    {
     "name": "stdout",
     "output_type": "stream",
     "text": [
      "/home/admin01/vadim/glossary/Канцелярия/Приказы АХД 2019 год/Приложение к приказу (форма) 02-991.xls - тут живет ошибка\n"
     ]
    },
    {
     "name": "stderr",
     "output_type": "stream",
     "text": [
      " 18%|█▊        | 264/1477 [00:13<00:45, 26.80it/s]"
     ]
    },
    {
     "name": "stdout",
     "output_type": "stream",
     "text": [
      "/home/admin01/vadim/glossary/Канцелярия/Приказы АХД 2019 год/Thumbs.db - тут живет ошибка\n"
     ]
    },
    {
     "name": "stderr",
     "output_type": "stream",
     "text": [
      " 25%|██▌       | 376/1477 [00:19<00:57, 19.14it/s]"
     ]
    },
    {
     "name": "stdout",
     "output_type": "stream",
     "text": [
      "/home/admin01/vadim/glossary/Канцелярия/Приказы АХД 2019 год/02-483-19_pril.doc - тут живет ошибка\n"
     ]
    },
    {
     "name": "stderr",
     "output_type": "stream",
     "text": [
      " 67%|██████▋   | 994/1477 [04:13<00:14, 34.43it/s]  "
     ]
    },
    {
     "name": "stdout",
     "output_type": "stream",
     "text": [
      "/home/admin01/vadim/glossary/Канцелярия/Приказы АХД 2019 год/02-316-19_pr1.xls - тут живет ошибка\n"
     ]
    },
    {
     "name": "stderr",
     "output_type": "stream",
     "text": [
      " 73%|███████▎  | 1075/1477 [04:17<00:23, 17.02it/s]"
     ]
    },
    {
     "name": "stdout",
     "output_type": "stream",
     "text": [
      "/home/admin01/vadim/glossary/Канцелярия/Приказы АХД 2019 год/02-827-19_pril.xlsx - тут живет ошибка\n"
     ]
    },
    {
     "name": "stderr",
     "output_type": "stream",
     "text": [
      " 90%|████████▉ | 1329/1477 [04:29<00:04, 30.57it/s]"
     ]
    },
    {
     "name": "stdout",
     "output_type": "stream",
     "text": [
      "/home/admin01/vadim/glossary/Канцелярия/Приказы АХД 2019 год/02-316-19_pr2.docx - тут живет ошибка\n"
     ]
    },
    {
     "name": "stderr",
     "output_type": "stream",
     "text": [
      "100%|██████████| 1477/1477 [04:35<00:00,  5.36it/s]\n",
      " 12%|█▏        | 243/2100 [00:23<07:42,  4.01it/s]"
     ]
    },
    {
     "name": "stdout",
     "output_type": "stream",
     "text": [
      "/home/admin01/vadim/glossary/Канцелярия/Приказы АХД 2023год/02-1668-23-Согласие на обработку персональных данных.DOCX - тут живет ошибка\n"
     ]
    },
    {
     "name": "stderr",
     "output_type": "stream",
     "text": [
      " 12%|█▏        | 252/2100 [00:24<04:52,  6.32it/s]"
     ]
    },
    {
     "name": "stdout",
     "output_type": "stream",
     "text": [
      "/home/admin01/vadim/glossary/Канцелярия/Приказы АХД 2023год/02-210-23Форма 7 (приложение № 7)_4 раздела.XLS - тут живет ошибка\n"
     ]
    },
    {
     "name": "stderr",
     "output_type": "stream",
     "text": [
      " 15%|█▌        | 321/2100 [00:27<01:22, 21.60it/s]"
     ]
    },
    {
     "name": "stdout",
     "output_type": "stream",
     "text": [
      "/home/admin01/vadim/glossary/Канцелярия/Приказы АХД 2023год/02-1668-23-Инструкция по инициации закупок в среде Pyrus.DOCX - тут живет ошибка\n"
     ]
    },
    {
     "name": "stderr",
     "output_type": "stream",
     "text": [
      " 17%|█▋        | 358/2100 [00:30<01:18, 22.16it/s]"
     ]
    },
    {
     "name": "stdout",
     "output_type": "stream",
     "text": [
      "/home/admin01/vadim/glossary/Канцелярия/Приказы АХД 2023год/Thumbs.db - тут живет ошибка\n"
     ]
    },
    {
     "name": "stderr",
     "output_type": "stream",
     "text": [
      " 70%|███████   | 1471/2100 [01:37<02:33,  4.11it/s]"
     ]
    },
    {
     "name": "stdout",
     "output_type": "stream",
     "text": [
      "/home/admin01/vadim/glossary/Канцелярия/Приказы АХД 2023год/02-210-23Форма 2 (приложение № 2).XLS - тут живет ошибка\n"
     ]
    },
    {
     "name": "stderr",
     "output_type": "stream",
     "text": [
      " 72%|███████▏  | 1517/2100 [01:38<00:23, 25.21it/s]"
     ]
    },
    {
     "name": "stdout",
     "output_type": "stream",
     "text": [
      "/home/admin01/vadim/glossary/Канцелярия/Приказы АХД 2023год/02-210-23Форма 1 (приложение № 1).XLS - тут живет ошибка\n"
     ]
    },
    {
     "name": "stderr",
     "output_type": "stream",
     "text": [
      " 75%|███████▌  | 1585/2100 [01:41<00:24, 20.95it/s]"
     ]
    },
    {
     "name": "stdout",
     "output_type": "stream",
     "text": [
      "/home/admin01/vadim/glossary/Канцелярия/Приказы АХД 2023год/02-210-23Форма 6 (приложение № 6)_2 раздела.XLS - тут живет ошибка\n"
     ]
    },
    {
     "name": "stderr",
     "output_type": "stream",
     "text": [
      " 77%|███████▋  | 1619/2100 [01:42<00:17, 27.25it/s]"
     ]
    },
    {
     "name": "stdout",
     "output_type": "stream",
     "text": [
      "/home/admin01/vadim/glossary/Канцелярия/Приказы АХД 2023год/02-573_ОУ_инструкция_регистрация на программу для сотрудников.docx - тут живет ошибка\n"
     ]
    },
    {
     "name": "stderr",
     "output_type": "stream",
     "text": [
      " 86%|████████▌ | 1810/2100 [01:50<00:06, 42.94it/s]"
     ]
    },
    {
     "name": "stdout",
     "output_type": "stream",
     "text": [
      "/home/admin01/vadim/glossary/Канцелярия/Приказы АХД 2023год/02-210-23Форма 5 (приложение № 5).XLS - тут живет ошибка\n",
      "/home/admin01/vadim/glossary/Канцелярия/Приказы АХД 2023год/02-210-23Форма 3 (приложение № 3)_2 раздела.XLS - тут живет ошибка\n"
     ]
    },
    {
     "name": "stderr",
     "output_type": "stream",
     "text": [
      " 88%|████████▊ | 1841/2100 [01:54<00:25, 10.18it/s]"
     ]
    },
    {
     "name": "stdout",
     "output_type": "stream",
     "text": [
      "/home/admin01/vadim/glossary/Канцелярия/Приказы АХД 2023год/02-210-23Форма 4 (приложение № 4).XLS - тут живет ошибка\n"
     ]
    },
    {
     "name": "stderr",
     "output_type": "stream",
     "text": [
      " 94%|█████████▍| 1978/2100 [02:04<00:03, 37.61it/s]"
     ]
    },
    {
     "name": "stdout",
     "output_type": "stream",
     "text": [
      "/home/admin01/vadim/glossary/Канцелярия/Приказы АХД 2023год/02-573-Приказ 120 программ 2023 - исправленное приложение.doc - тут живет ошибка\n"
     ]
    },
    {
     "name": "stderr",
     "output_type": "stream",
     "text": [
      "100%|█████████▉| 2090/2100 [02:12<00:00, 18.19it/s]"
     ]
    },
    {
     "name": "stdout",
     "output_type": "stream",
     "text": [
      "/home/admin01/vadim/glossary/Канцелярия/Приказы АХД 2023год/02-1668-23-Регламент о порядке согласования договоров о закупке товаров, работ, услуг.DOCX - тут живет ошибка\n"
     ]
    },
    {
     "name": "stderr",
     "output_type": "stream",
     "text": [
      "100%|██████████| 2100/2100 [02:13<00:00, 15.78it/s]\n",
      " 17%|█▋        | 87/509 [10:16<39:30,  5.62s/it]  "
     ]
    },
    {
     "name": "stdout",
     "output_type": "stream",
     "text": [
      "/home/admin01/vadim/glossary/Канцелярия/Приказы по АХД  Дело 02 2015 год/Thumbs.db - тут живет ошибка\n"
     ]
    },
    {
     "name": "stderr",
     "output_type": "stream",
     "text": [
      "100%|██████████| 509/509 [43:04<00:00,  5.08s/it]  \n",
      " 18%|█▊        | 190/1041 [00:13<01:57,  7.24it/s]"
     ]
    },
    {
     "name": "stdout",
     "output_type": "stream",
     "text": [
      "/home/admin01/vadim/glossary/Канцелярия/Приказы АХД 2020 год/Thumbs.db - тут живет ошибка\n"
     ]
    },
    {
     "name": "stderr",
     "output_type": "stream",
     "text": [
      " 23%|██▎       | 243/1041 [00:16<00:32, 24.79it/s]"
     ]
    },
    {
     "name": "stdout",
     "output_type": "stream",
     "text": [
      "/home/admin01/vadim/glossary/Канцелярия/Приказы АХД 2020 год/02-371-20pril.xlsx - тут живет ошибка\n"
     ]
    },
    {
     "name": "stderr",
     "output_type": "stream",
     "text": [
      " 24%|██▍       | 249/1041 [00:17<00:44, 17.69it/s]"
     ]
    },
    {
     "name": "stdout",
     "output_type": "stream",
     "text": [
      "/home/admin01/vadim/glossary/Канцелярия/Приказы АХД 2020 год/02-481-20-pr.xlsx - тут живет ошибка\n"
     ]
    },
    {
     "name": "stderr",
     "output_type": "stream",
     "text": [
      " 54%|█████▍    | 560/1041 [00:35<00:38, 12.59it/s]"
     ]
    },
    {
     "name": "stdout",
     "output_type": "stream",
     "text": [
      "/home/admin01/vadim/glossary/Канцелярия/Приказы АХД 2020 год/02-436-20-pril.xlsx - тут живет ошибка\n"
     ]
    },
    {
     "name": "stderr",
     "output_type": "stream",
     "text": [
      " 77%|███████▋  | 799/1041 [00:49<00:16, 14.77it/s]"
     ]
    },
    {
     "name": "stdout",
     "output_type": "stream",
     "text": [
      "/home/admin01/vadim/glossary/Канцелярия/Приказы АХД 2020 год/02-377-20-pril.xlsx - тут живет ошибка\n"
     ]
    },
    {
     "name": "stderr",
     "output_type": "stream",
     "text": [
      " 86%|████████▌ | 894/1041 [00:53<00:05, 26.47it/s]Multiple definitions in dictionary at byte 0x8d706 for key /Info\n",
      "Multiple definitions in dictionary at byte 0x8d712 for key /Info\n",
      "Multiple definitions in dictionary at byte 0x8d71e for key /Info\n",
      "100%|██████████| 1041/1041 [01:04<00:00, 16.07it/s]\n",
      " 17%|█▋        | 105/633 [03:00<13:09,  1.49s/it]"
     ]
    },
    {
     "name": "stdout",
     "output_type": "stream",
     "text": [
      "/home/admin01/vadim/glossary/Канцелярия/Все приказы 2009 года/Thumbs.db - тут живет ошибка\n"
     ]
    },
    {
     "name": "stderr",
     "output_type": "stream",
     "text": [
      "100%|██████████| 633/633 [18:14<00:00,  1.73s/it]\n",
      " 19%|█▊        | 3412/18313 [01:24<11:36, 21.40it/s]  "
     ]
    },
    {
     "name": "stdout",
     "output_type": "stream",
     "text": [
      "/home/admin01/vadim/glossary/Канцелярия/Приказы ПО 2021 год/Thumbs.db - тут живет ошибка\n"
     ]
    },
    {
     "name": "stderr",
     "output_type": "stream",
     "text": [
      " 38%|███▊      | 6963/18313 [03:19<02:31, 74.96it/s]  "
     ]
    },
    {
     "name": "stdout",
     "output_type": "stream",
     "text": [
      "/home/admin01/vadim/glossary/Канцелярия/Приказы ПО 2021 год/01-1636-21Приложение 2 - Заявление о зачислении.docx - тут живет ошибка\n"
     ]
    },
    {
     "name": "stderr",
     "output_type": "stream",
     "text": [
      " 56%|█████▌    | 10173/18313 [04:52<02:03, 66.07it/s] "
     ]
    },
    {
     "name": "stdout",
     "output_type": "stream",
     "text": [
      "/home/admin01/vadim/glossary/Канцелярия/Приказы ПО 2021 год/01-12877-21.pdf - тут живет ошибка\n"
     ]
    },
    {
     "name": "stderr",
     "output_type": "stream",
     "text": [
      " 56%|█████▌    | 10225/18313 [04:52<01:55, 69.79it/s]"
     ]
    },
    {
     "name": "stdout",
     "output_type": "stream",
     "text": [
      "/home/admin01/vadim/glossary/Канцелярия/Приказы ПО 2021 год/01-155-21-pr.xlsx - тут живет ошибка\n"
     ]
    },
    {
     "name": "stderr",
     "output_type": "stream",
     "text": [
      " 65%|██████▍   | 11825/18313 [06:02<02:27, 44.08it/s]  "
     ]
    },
    {
     "name": "stdout",
     "output_type": "stream",
     "text": [
      "/home/admin01/vadim/glossary/Канцелярия/Приказы ПО 2021 год/01-12876-21.pdf - тут живет ошибка\n"
     ]
    },
    {
     "name": "stderr",
     "output_type": "stream",
     "text": [
      " 74%|███████▎  | 13498/18313 [06:39<01:34, 50.84it/s]"
     ]
    },
    {
     "name": "stdout",
     "output_type": "stream",
     "text": [
      "/home/admin01/vadim/glossary/Канцелярия/Приказы ПО 2021 год/01-1636-21Приложение 2 - Согласие на обработку данных.docx - тут живет ошибка\n"
     ]
    },
    {
     "name": "stderr",
     "output_type": "stream",
     "text": [
      " 77%|███████▋  | 14131/18313 [06:54<01:51, 37.40it/s]"
     ]
    },
    {
     "name": "stdout",
     "output_type": "stream",
     "text": [
      "/home/admin01/vadim/glossary/Канцелярия/Приказы ПО 2021 год/01-1636-21Приложение 2 - Заявление о направлении.docx - тут живет ошибка\n"
     ]
    },
    {
     "name": "stderr",
     "output_type": "stream",
     "text": [
      "100%|██████████| 18313/18313 [08:49<00:00, 34.57it/s]\n",
      " 18%|█▊        | 1543/8585 [55:04<2:20:18,  1.20s/it] "
     ]
    },
    {
     "name": "stdout",
     "output_type": "stream",
     "text": [
      "/home/admin01/vadim/glossary/Канцелярия/Все приказы 2010-2012 года/Thumbs.db - тут живет ошибка\n"
     ]
    },
    {
     "name": "stderr",
     "output_type": "stream",
     "text": [
      " 22%|██▏       | 1852/8585 [1:05:37<2:58:57,  1.59s/it] "
     ]
    },
    {
     "name": "stdout",
     "output_type": "stream",
     "text": [
      "/home/admin01/vadim/glossary/Канцелярия/Все приказы 2010-2012 года/копии 2010 - тут живет ошибка\n"
     ]
    },
    {
     "name": "stderr",
     "output_type": "stream",
     "text": [
      " 32%|███▏      | 2728/8585 [1:34:28<1:47:42,  1.10s/it] "
     ]
    },
    {
     "name": "stdout",
     "output_type": "stream",
     "text": [
      "/home/admin01/vadim/glossary/Канцелярия/Все приказы 2010-2012 года/sqlnet.log - тут живет ошибка\n"
     ]
    },
    {
     "name": "stderr",
     "output_type": "stream",
     "text": [
      " 42%|████▏     | 3588/8585 [2:08:30<2:55:29,  2.11s/it]  "
     ]
    },
    {
     "name": "stdout",
     "output_type": "stream",
     "text": [
      "/home/admin01/vadim/glossary/Канцелярия/Все приказы 2010-2012 года/служебная по номенклатуре дел.pdf - тут живет ошибка\n"
     ]
    },
    {
     "name": "stderr",
     "output_type": "stream",
     "text": [
      " 54%|█████▍    | 4618/8585 [2:46:54<1:30:28,  1.37s/it] "
     ]
    },
    {
     "name": "stdout",
     "output_type": "stream",
     "text": [
      "/home/admin01/vadim/glossary/Канцелярия/Все приказы 2010-2012 года/01-6996-12 (2).pdf - тут живет ошибка\n"
     ]
    },
    {
     "name": "stderr",
     "output_type": "stream",
     "text": [
      " 64%|██████▍   | 5532/8585 [3:22:40<1:37:15,  1.91s/it] "
     ]
    },
    {
     "name": "stdout",
     "output_type": "stream",
     "text": [
      "/home/admin01/vadim/glossary/Канцелярия/Все приказы 2010-2012 года/PP11Thumbs.ptn - тут живет ошибка\n"
     ]
    },
    {
     "name": "stderr",
     "output_type": "stream",
     "text": [
      " 98%|█████████▊| 8440/8585 [5:09:37<02:38,  1.10s/it]   "
     ]
    },
    {
     "name": "stdout",
     "output_type": "stream",
     "text": [
      "/home/admin01/vadim/glossary/Канцелярия/Все приказы 2010-2012 года/01-6817-12.pdf - тут живет ошибка\n"
     ]
    },
    {
     "name": "stderr",
     "output_type": "stream",
     "text": [
      " 99%|█████████▉| 8515/8585 [5:12:01<01:40,  1.44s/it]"
     ]
    },
    {
     "name": "stdout",
     "output_type": "stream",
     "text": [
      "/home/admin01/vadim/glossary/Канцелярия/Все приказы 2010-2012 года/PP11Thumbs.ptn2 - тут живет ошибка\n"
     ]
    },
    {
     "name": "stderr",
     "output_type": "stream",
     "text": [
      "100%|██████████| 8585/8585 [5:14:27<00:00,  2.20s/it]\n",
      " 16%|█▌        | 1381/8871 [00:56<02:47, 44.75it/s]"
     ]
    },
    {
     "name": "stdout",
     "output_type": "stream",
     "text": [
      "/home/admin01/vadim/glossary/Канцелярия/Приказы ПО 2017 год/Приложение к приказу  №01-5723.docx - тут живет ошибка\n"
     ]
    },
    {
     "name": "stderr",
     "output_type": "stream",
     "text": [
      " 19%|█▉        | 1666/8871 [01:08<03:40, 32.65it/s]"
     ]
    },
    {
     "name": "stdout",
     "output_type": "stream",
     "text": [
      "/home/admin01/vadim/glossary/Канцелярия/Приказы ПО 2017 год/Приложение к приказу 01-2978.doc - тут живет ошибка\n"
     ]
    },
    {
     "name": "stderr",
     "output_type": "stream",
     "text": [
      " 19%|█▉        | 1714/8871 [01:09<02:11, 54.57it/s]"
     ]
    },
    {
     "name": "stdout",
     "output_type": "stream",
     "text": [
      "/home/admin01/vadim/glossary/Канцелярия/Приказы ПО 2017 год/Thumbs.db - тут живет ошибка\n"
     ]
    },
    {
     "name": "stderr",
     "output_type": "stream",
     "text": [
      " 23%|██▎       | 2020/8871 [02:45<02:18, 49.42it/s]  "
     ]
    },
    {
     "name": "stdout",
     "output_type": "stream",
     "text": [
      "/home/admin01/vadim/glossary/Канцелярия/Приказы ПО 2017 год/Приложение 1к приказу № 01-5235 от 24.08.2017.doc - тут живет ошибка\n"
     ]
    },
    {
     "name": "stderr",
     "output_type": "stream",
     "text": [
      " 29%|██▉       | 2595/8871 [03:00<01:57, 53.33it/s]Multiple definitions in dictionary at byte 0xf834c for key /Info\n",
      "Multiple definitions in dictionary at byte 0xf8359 for key /Info\n",
      "Multiple definitions in dictionary at byte 0xf8366 for key /Info\n",
      " 47%|████▋     | 4177/8871 [04:13<08:01,  9.75it/s]"
     ]
    },
    {
     "name": "stdout",
     "output_type": "stream",
     "text": [
      "/home/admin01/vadim/glossary/Канцелярия/Приказы ПО 2017 год/Приложение к п риказу № 01-4249 от 14.07.2017.xlsx - тут живет ошибка\n"
     ]
    },
    {
     "name": "stderr",
     "output_type": "stream",
     "text": [
      "100%|██████████| 8871/8871 [07:19<00:00, 20.20it/s]\n",
      " 19%|█▊        | 515/2757 [17:13<1:04:34,  1.73s/it] "
     ]
    },
    {
     "name": "stdout",
     "output_type": "stream",
     "text": [
      "/home/admin01/vadim/glossary/Канцелярия/Все приказы 2010 года/Thumbs.db - тут живет ошибка\n"
     ]
    },
    {
     "name": "stderr",
     "output_type": "stream",
     "text": [
      " 23%|██▎       | 633/2757 [20:36<51:45,  1.46s/it]  "
     ]
    },
    {
     "name": "stdout",
     "output_type": "stream",
     "text": [
      "/home/admin01/vadim/glossary/Канцелярия/Все приказы 2010 года/копии 2010 - тут живет ошибка\n"
     ]
    },
    {
     "name": "stderr",
     "output_type": "stream",
     "text": [
      "100%|██████████| 2757/2757 [1:34:22<00:00,  2.05s/it]  \n",
      "  0%|          | 0/5 [00:00<?, ?it/s]"
     ]
    },
    {
     "name": "stdout",
     "output_type": "stream",
     "text": [
      "/home/admin01/vadim/glossary/Канцелярия/Все приказы 2013 года/Приказы ПО Дело  01 2013 год - тут живет ошибка\n",
      "/home/admin01/vadim/glossary/Канцелярия/Все приказы 2013 года/Thumbs.db - тут живет ошибка\n"
     ]
    },
    {
     "name": "stderr",
     "output_type": "stream",
     "text": [
      "100%|██████████| 5/5 [00:00<00:00, 16.98it/s]\n",
      " 17%|█▋        | 207/1188 [00:15<01:19, 12.40it/s]"
     ]
    },
    {
     "name": "stdout",
     "output_type": "stream",
     "text": [
      "/home/admin01/vadim/glossary/Канцелярия/Приказы АХД 2018 год/Thumbs.db - тут живет ошибка\n"
     ]
    },
    {
     "name": "stderr",
     "output_type": "stream",
     "text": [
      " 22%|██▏       | 261/1188 [00:17<00:31, 29.14it/s]"
     ]
    },
    {
     "name": "stdout",
     "output_type": "stream",
     "text": [
      "/home/admin01/vadim/glossary/Канцелярия/Приказы АХД 2018 год/pril_02-750-18.xlsx - тут живет ошибка\n"
     ]
    },
    {
     "name": "stderr",
     "output_type": "stream",
     "text": [
      " 26%|██▋       | 314/1188 [00:19<00:19, 44.61it/s]"
     ]
    },
    {
     "name": "stdout",
     "output_type": "stream",
     "text": [
      "/home/admin01/vadim/glossary/Канцелярия/Приказы АХД 2018 год/pril_02-571-18.xlsx - тут живет ошибка\n"
     ]
    },
    {
     "name": "stderr",
     "output_type": "stream",
     "text": [
      " 34%|███▎      | 398/1188 [00:25<00:47, 16.71it/s]"
     ]
    },
    {
     "name": "stdout",
     "output_type": "stream",
     "text": [
      "/home/admin01/vadim/glossary/Канцелярия/Приказы АХД 2018 год/Приложение к приказу 02-297-18.xls - тут живет ошибка\n"
     ]
    },
    {
     "name": "stderr",
     "output_type": "stream",
     "text": [
      " 82%|████████▏ | 973/1188 [00:55<00:10, 20.24it/s]"
     ]
    },
    {
     "name": "stdout",
     "output_type": "stream",
     "text": [
      "/home/admin01/vadim/glossary/Канцелярия/Приказы АХД 2018 год/pril_02-1308-18.docx - тут живет ошибка\n"
     ]
    },
    {
     "name": "stderr",
     "output_type": "stream",
     "text": [
      "100%|██████████| 1188/1188 [01:35<00:00, 12.41it/s]\n",
      "  1%|▏         | 300/22138 [00:18<09:54, 36.72it/s] Multiple definitions in dictionary at byte 0xeb5ad for key /Info\n",
      "Multiple definitions in dictionary at byte 0xeb5ba for key /Info\n",
      "Multiple definitions in dictionary at byte 0xeb5c7 for key /Info\n",
      "  2%|▏         | 485/22138 [01:12<4:12:21,  1.43it/s]Multiple definitions in dictionary at byte 0x3ff807 for key /Info\n",
      "Multiple definitions in dictionary at byte 0x3ff814 for key /Info\n",
      "Multiple definitions in dictionary at byte 0x3ff821 for key /Info\n",
      "  3%|▎         | 554/22138 [01:32<23:46, 15.13it/s]  Multiple definitions in dictionary at byte 0xfafc4 for key /Info\n",
      "Multiple definitions in dictionary at byte 0xfafd1 for key /Info\n",
      "Multiple definitions in dictionary at byte 0xfafde for key /Info\n",
      "  7%|▋         | 1506/22138 [02:26<15:22, 22.36it/s]  Multiple definitions in dictionary at byte 0x164f72 for key /Info\n",
      "Multiple definitions in dictionary at byte 0x164f7f for key /Info\n",
      "Multiple definitions in dictionary at byte 0x164f8c for key /Info\n",
      "  7%|▋         | 1655/22138 [02:38<09:06, 37.50it/s]  Multiple definitions in dictionary at byte 0x34bee0 for key /Info\n",
      "Multiple definitions in dictionary at byte 0x34beed for key /Info\n",
      "Multiple definitions in dictionary at byte 0x34befa for key /Info\n",
      "  9%|▉         | 2050/22138 [03:28<18:43, 17.88it/s]  Multiple definitions in dictionary at byte 0x12d04a for key /Info\n",
      "Multiple definitions in dictionary at byte 0x12d057 for key /Info\n",
      "Multiple definitions in dictionary at byte 0x12d064 for key /Info\n",
      " 12%|█▏        | 2647/22138 [03:47<05:29, 59.20it/s]Multiple definitions in dictionary at byte 0x2a3af0 for key /Info\n",
      "Multiple definitions in dictionary at byte 0x2a3afd for key /Info\n",
      "Multiple definitions in dictionary at byte 0x2a3b0a for key /Info\n",
      " 13%|█▎        | 2781/22138 [04:00<07:25, 43.48it/s]  Multiple definitions in dictionary at byte 0xa04b8 for key /Info\n",
      "Multiple definitions in dictionary at byte 0xa04c5 for key /Info\n",
      "Multiple definitions in dictionary at byte 0xa04d2 for key /Info\n",
      " 15%|█▌        | 3406/22138 [04:20<19:30, 16.00it/s]Multiple definitions in dictionary at byte 0x110808 for key /Info\n",
      "Multiple definitions in dictionary at byte 0x110815 for key /Info\n",
      "Multiple definitions in dictionary at byte 0x110822 for key /Info\n",
      " 17%|█▋        | 3657/22138 [05:11<27:36, 11.15it/s]  Multiple definitions in dictionary at byte 0xe6676 for key /Info\n",
      "Multiple definitions in dictionary at byte 0xe6683 for key /Info\n",
      "Multiple definitions in dictionary at byte 0xe6690 for key /Info\n",
      " 18%|█▊        | 4009/22138 [05:26<08:12, 36.82it/s]  Multiple definitions in dictionary at byte 0xe44d5 for key /Info\n",
      "Multiple definitions in dictionary at byte 0xe44e2 for key /Info\n",
      "Multiple definitions in dictionary at byte 0xe44ef for key /Info\n",
      " 18%|█▊        | 4036/22138 [05:30<21:31, 14.02it/s]"
     ]
    },
    {
     "name": "stdout",
     "output_type": "stream",
     "text": [
      "/home/admin01/vadim/glossary/Канцелярия/Приказы ПО 2023 год/Thumbs.db - тут живет ошибка\n"
     ]
    },
    {
     "name": "stderr",
     "output_type": "stream",
     "text": [
      " 19%|█▉        | 4205/22138 [05:38<27:58, 10.68it/s]Multiple definitions in dictionary at byte 0xb27e2 for key /Info\n",
      "Multiple definitions in dictionary at byte 0xb27ef for key /Info\n",
      "Multiple definitions in dictionary at byte 0xb27fc for key /Info\n",
      " 19%|█▉        | 4260/22138 [05:43<26:32, 11.23it/s]Multiple definitions in dictionary at byte 0x224f43 for key /Info\n",
      "Multiple definitions in dictionary at byte 0x224f50 for key /Info\n",
      "Multiple definitions in dictionary at byte 0x224f5d for key /Info\n",
      " 19%|█▉        | 4315/22138 [05:54<20:59, 14.15it/s]  Multiple definitions in dictionary at byte 0x1b25bd for key /Info\n",
      "Multiple definitions in dictionary at byte 0x1b25ca for key /Info\n",
      "Multiple definitions in dictionary at byte 0x1b25d7 for key /Info\n",
      " 20%|██        | 4486/22138 [06:16<2:28:29,  1.98it/s]Multiple definitions in dictionary at byte 0x4b7fa1 for key /Info\n",
      "Multiple definitions in dictionary at byte 0x4b7fae for key /Info\n",
      "Multiple definitions in dictionary at byte 0x4b7fbb for key /Info\n",
      " 23%|██▎       | 5202/22138 [07:46<15:13, 18.53it/s]  Multiple definitions in dictionary at byte 0x139364 for key /Info\n",
      "Multiple definitions in dictionary at byte 0x139371 for key /Info\n",
      "Multiple definitions in dictionary at byte 0x13937e for key /Info\n",
      " 24%|██▍       | 5334/22138 [08:12<08:46, 31.90it/s]  Multiple definitions in dictionary at byte 0x3703e1 for key /Info\n",
      "Multiple definitions in dictionary at byte 0x3703ee for key /Info\n",
      "Multiple definitions in dictionary at byte 0x3703fb for key /Info\n",
      " 26%|██▋       | 5843/22138 [08:49<11:32, 23.53it/s]  Multiple definitions in dictionary at byte 0x18be38 for key /Info\n",
      "Multiple definitions in dictionary at byte 0x18be45 for key /Info\n",
      "Multiple definitions in dictionary at byte 0x18be52 for key /Info\n",
      " 27%|██▋       | 5931/22138 [09:08<19:00, 14.21it/s]  Multiple definitions in dictionary at byte 0x97771 for key /Info\n",
      "Multiple definitions in dictionary at byte 0x9777e for key /Info\n",
      "Multiple definitions in dictionary at byte 0x9778b for key /Info\n",
      " 27%|██▋       | 6068/22138 [09:13<05:40, 47.21it/s]Multiple definitions in dictionary at byte 0xa5256 for key /Info\n",
      "Multiple definitions in dictionary at byte 0xa5263 for key /Info\n",
      "Multiple definitions in dictionary at byte 0xa5270 for key /Info\n",
      " 32%|███▏      | 7143/22138 [10:21<14:02, 17.81it/s]  Multiple definitions in dictionary at byte 0x21aaebb for key /Info\n",
      "Multiple definitions in dictionary at byte 0x21aaec9 for key /Info\n",
      "Multiple definitions in dictionary at byte 0x21aaed7 for key /Info\n",
      " 34%|███▍      | 7490/22138 [13:00<16:35, 14.72it/s]   Multiple definitions in dictionary at byte 0x1cf1ab for key /Info\n",
      "Multiple definitions in dictionary at byte 0x1cf1b8 for key /Info\n",
      "Multiple definitions in dictionary at byte 0x1cf1c5 for key /Info\n",
      " 35%|███▍      | 7693/22138 [13:33<06:40, 36.03it/s]  Multiple definitions in dictionary at byte 0x13af09 for key /Info\n",
      "Multiple definitions in dictionary at byte 0x13af16 for key /Info\n",
      "Multiple definitions in dictionary at byte 0x13af23 for key /Info\n",
      " 35%|███▍      | 7728/22138 [13:40<22:34, 10.64it/s]Multiple definitions in dictionary at byte 0xd0d31 for key /Info\n",
      "Multiple definitions in dictionary at byte 0xd0d3e for key /Info\n",
      "Multiple definitions in dictionary at byte 0xd0d4b for key /Info\n",
      " 36%|███▌      | 7872/22138 [13:57<09:07, 26.04it/s]  Multiple definitions in dictionary at byte 0x106117 for key /Info\n",
      "Multiple definitions in dictionary at byte 0x106124 for key /Info\n",
      "Multiple definitions in dictionary at byte 0x106131 for key /Info\n",
      " 39%|███▉      | 8616/22138 [15:42<06:16, 35.89it/s]  Multiple definitions in dictionary at byte 0xb33ad for key /Info\n",
      "Multiple definitions in dictionary at byte 0xb33ba for key /Info\n",
      "Multiple definitions in dictionary at byte 0xb33c7 for key /Info\n",
      " 39%|███▉      | 8670/22138 [15:45<06:11, 36.30it/s]Multiple definitions in dictionary at byte 0x5def05 for key /Info\n",
      "Multiple definitions in dictionary at byte 0x5def12 for key /Info\n",
      "Multiple definitions in dictionary at byte 0x5def1f for key /Info\n",
      " 41%|████      | 9021/22138 [17:01<25:00,  8.74it/s]  Multiple definitions in dictionary at byte 0xf2fa6 for key /Info\n",
      "Multiple definitions in dictionary at byte 0xf2fb3 for key /Info\n",
      "Multiple definitions in dictionary at byte 0xf2fc0 for key /Info\n",
      " 41%|████      | 9129/22138 [17:08<08:55, 24.31it/s]Multiple definitions in dictionary at byte 0x1c7e72 for key /Info\n",
      "Multiple definitions in dictionary at byte 0x1c7e7f for key /Info\n",
      "Multiple definitions in dictionary at byte 0x1c7e8c for key /Info\n",
      " 43%|████▎     | 9604/22138 [17:53<19:02, 10.97it/s]  Multiple definitions in dictionary at byte 0x10541b for key /Info\n",
      "Multiple definitions in dictionary at byte 0x105428 for key /Info\n",
      "Multiple definitions in dictionary at byte 0x105435 for key /Info\n",
      " 46%|████▌     | 10230/22138 [19:30<20:45,  9.56it/s]  Multiple definitions in dictionary at byte 0x12910c for key /Info\n",
      "Multiple definitions in dictionary at byte 0x129119 for key /Info\n",
      "Multiple definitions in dictionary at byte 0x129126 for key /Info\n",
      " 47%|████▋     | 10499/22138 [19:48<11:13, 17.28it/s]Multiple definitions in dictionary at byte 0x1608c0 for key /Info\n",
      "Multiple definitions in dictionary at byte 0x1608cd for key /Info\n",
      "Multiple definitions in dictionary at byte 0x1608da for key /Info\n",
      " 49%|████▊     | 10781/22138 [20:07<07:06, 26.65it/s]Multiple definitions in dictionary at byte 0x264a37 for key /Info\n",
      "Multiple definitions in dictionary at byte 0x264a44 for key /Info\n",
      "Multiple definitions in dictionary at byte 0x264a51 for key /Info\n",
      " 49%|████▉     | 10798/22138 [20:18<51:33,  3.67it/s]  Multiple definitions in dictionary at byte 0x10f84f for key /Info\n",
      "Multiple definitions in dictionary at byte 0x10f85c for key /Info\n",
      "Multiple definitions in dictionary at byte 0x10f869 for key /Info\n",
      " 49%|████▉     | 10873/22138 [20:24<06:49, 27.50it/s]  Multiple definitions in dictionary at byte 0x145516 for key /Info\n",
      "Multiple definitions in dictionary at byte 0x145523 for key /Info\n",
      "Multiple definitions in dictionary at byte 0x145530 for key /Info\n",
      " 50%|█████     | 11134/22138 [20:53<42:05,  4.36it/s]  Multiple definitions in dictionary at byte 0x21e1f4 for key /Info\n",
      "Multiple definitions in dictionary at byte 0x21e201 for key /Info\n",
      "Multiple definitions in dictionary at byte 0x21e20e for key /Info\n",
      " 51%|█████     | 11235/22138 [21:02<03:32, 51.25it/s]  Multiple definitions in dictionary at byte 0x3ee781 for key /Info\n",
      "Multiple definitions in dictionary at byte 0x3ee78e for key /Info\n",
      "Multiple definitions in dictionary at byte 0x3ee79b for key /Info\n",
      " 53%|█████▎    | 11679/22138 [22:47<51:31,  3.38it/s]  Multiple definitions in dictionary at byte 0x80ae6 for key /Info\n",
      "Multiple definitions in dictionary at byte 0x80af3 for key /Info\n",
      "Multiple definitions in dictionary at byte 0x80b00 for key /Info\n",
      " 57%|█████▋    | 12545/22138 [25:19<03:14, 49.40it/s]   Multiple definitions in dictionary at byte 0x3e4011 for key /Info\n",
      "Multiple definitions in dictionary at byte 0x3e401e for key /Info\n",
      "Multiple definitions in dictionary at byte 0x3e402b for key /Info\n",
      " 57%|█████▋    | 12641/22138 [26:40<15:26, 10.25it/s]   Multiple definitions in dictionary at byte 0xb4e2f for key /Info\n",
      "Multiple definitions in dictionary at byte 0xb4e3c for key /Info\n",
      "Multiple definitions in dictionary at byte 0xb4e49 for key /Info\n",
      " 58%|█████▊    | 12795/22138 [26:50<14:37, 10.65it/s]Multiple definitions in dictionary at byte 0xbbd05 for key /Info\n",
      "Multiple definitions in dictionary at byte 0xbbd12 for key /Info\n",
      "Multiple definitions in dictionary at byte 0xbbd1f for key /Info\n",
      " 59%|█████▉    | 13046/22138 [27:20<04:17, 35.26it/s]  Multiple definitions in dictionary at byte 0x19eca4 for key /Info\n",
      "Multiple definitions in dictionary at byte 0x19ecb1 for key /Info\n",
      "Multiple definitions in dictionary at byte 0x19ecbe for key /Info\n",
      " 60%|█████▉    | 13239/22138 [28:23<20:37,  7.19it/s]  Multiple definitions in dictionary at byte 0x103db3 for key /Info\n",
      "Multiple definitions in dictionary at byte 0x103dc0 for key /Info\n",
      "Multiple definitions in dictionary at byte 0x103dcd for key /Info\n",
      " 61%|██████    | 13468/22138 [29:19<02:46, 52.08it/s]  Multiple definitions in dictionary at byte 0x23a6a9 for key /Info\n",
      "Multiple definitions in dictionary at byte 0x23a6b6 for key /Info\n",
      "Multiple definitions in dictionary at byte 0x23a6c3 for key /Info\n",
      " 63%|██████▎   | 13863/22138 [31:35<27:59,  4.93it/s]  Multiple definitions in dictionary at byte 0x123e57 for key /Info\n",
      "Multiple definitions in dictionary at byte 0x123e64 for key /Info\n",
      "Multiple definitions in dictionary at byte 0x123e71 for key /Info\n",
      " 63%|██████▎   | 13974/22138 [31:50<07:09, 19.02it/s]Multiple definitions in dictionary at byte 0x15eb93 for key /Info\n",
      "Multiple definitions in dictionary at byte 0x15eba0 for key /Info\n",
      "Multiple definitions in dictionary at byte 0x15ebad for key /Info\n",
      " 65%|██████▍   | 14379/22138 [32:06<11:34, 11.18it/s]Multiple definitions in dictionary at byte 0x93951 for key /Info\n",
      "Multiple definitions in dictionary at byte 0x9395e for key /Info\n",
      "Multiple definitions in dictionary at byte 0x9396b for key /Info\n",
      " 65%|██████▌   | 14492/22138 [32:10<02:22, 53.75it/s]Multiple definitions in dictionary at byte 0x154809 for key /Info\n",
      "Multiple definitions in dictionary at byte 0x154816 for key /Info\n",
      "Multiple definitions in dictionary at byte 0x154823 for key /Info\n",
      " 66%|██████▌   | 14655/22138 [32:21<03:14, 38.56it/s]Multiple definitions in dictionary at byte 0xc0a95 for key /Info\n",
      "Multiple definitions in dictionary at byte 0xc0aa2 for key /Info\n",
      "Multiple definitions in dictionary at byte 0xc0aaf for key /Info\n",
      " 67%|██████▋   | 14731/22138 [32:25<06:10, 19.98it/s]Multiple definitions in dictionary at byte 0x66446f for key /Info\n",
      "Multiple definitions in dictionary at byte 0x66447c for key /Info\n",
      "Multiple definitions in dictionary at byte 0x664489 for key /Info\n",
      " 69%|██████▉   | 15363/22138 [33:11<16:49,  6.71it/s]  Multiple definitions in dictionary at byte 0x2011ca for key /Info\n",
      "Multiple definitions in dictionary at byte 0x2011d7 for key /Info\n",
      "Multiple definitions in dictionary at byte 0x2011e4 for key /Info\n",
      " 70%|███████   | 15524/22138 [33:23<11:25,  9.65it/s]Multiple definitions in dictionary at byte 0x23e657 for key /Info\n",
      "Multiple definitions in dictionary at byte 0x23e664 for key /Info\n",
      "Multiple definitions in dictionary at byte 0x23e671 for key /Info\n",
      " 71%|███████   | 15725/22138 [33:43<06:43, 15.88it/s]Multiple definitions in dictionary at byte 0xcc259 for key /Info\n",
      "Multiple definitions in dictionary at byte 0xcc266 for key /Info\n",
      "Multiple definitions in dictionary at byte 0xcc273 for key /Info\n",
      " 71%|███████   | 15771/22138 [33:47<05:00, 21.18it/s]Multiple definitions in dictionary at byte 0x21d010 for key /Info\n",
      "Multiple definitions in dictionary at byte 0x21d01d for key /Info\n",
      "Multiple definitions in dictionary at byte 0x21d02a for key /Info\n",
      " 74%|███████▍  | 16471/22138 [35:09<19:32,  4.83it/s]  Multiple definitions in dictionary at byte 0xbf471 for key /Info\n",
      "Multiple definitions in dictionary at byte 0xbf47e for key /Info\n",
      "Multiple definitions in dictionary at byte 0xbf48b for key /Info\n",
      " 74%|███████▍  | 16479/22138 [35:12<23:45,  3.97it/s]Multiple definitions in dictionary at byte 0x462db7 for key /Info\n",
      "Multiple definitions in dictionary at byte 0x462dc4 for key /Info\n",
      "Multiple definitions in dictionary at byte 0x462dd1 for key /Info\n",
      " 76%|███████▌  | 16733/22138 [36:25<47:39,  1.89it/s]  Multiple definitions in dictionary at byte 0x17eca5 for key /Info\n",
      "Multiple definitions in dictionary at byte 0x17ecb2 for key /Info\n",
      "Multiple definitions in dictionary at byte 0x17ecbf for key /Info\n",
      " 76%|███████▌  | 16804/22138 [36:55<12:09,  7.32it/s]  Multiple definitions in dictionary at byte 0x1465b7 for key /Info\n",
      "Multiple definitions in dictionary at byte 0x1465c4 for key /Info\n",
      "Multiple definitions in dictionary at byte 0x1465d1 for key /Info\n",
      " 76%|███████▌  | 16849/22138 [37:03<08:29, 10.38it/s]Multiple definitions in dictionary at byte 0x68147c for key /Info\n",
      "Multiple definitions in dictionary at byte 0x681489 for key /Info\n",
      "Multiple definitions in dictionary at byte 0x681496 for key /Info\n",
      " 76%|███████▌  | 16857/22138 [37:44<1:54:55,  1.31s/it]Multiple definitions in dictionary at byte 0xd6217 for key /Info\n",
      "Multiple definitions in dictionary at byte 0xd6224 for key /Info\n",
      "Multiple definitions in dictionary at byte 0xd6231 for key /Info\n",
      " 76%|███████▋  | 16886/22138 [37:47<32:25,  2.70it/s]  Multiple definitions in dictionary at byte 0x2a7f48 for key /Info\n",
      "Multiple definitions in dictionary at byte 0x2a7f55 for key /Info\n",
      "Multiple definitions in dictionary at byte 0x2a7f62 for key /Info\n",
      " 78%|███████▊  | 17292/22138 [39:09<01:24, 57.50it/s]  Multiple definitions in dictionary at byte 0x1fe01b for key /Info\n",
      "Multiple definitions in dictionary at byte 0x1fe028 for key /Info\n",
      "Multiple definitions in dictionary at byte 0x1fe035 for key /Info\n",
      " 79%|███████▉  | 17450/22138 [39:20<01:37, 48.05it/s]Multiple definitions in dictionary at byte 0x6c6130 for key /Info\n",
      "Multiple definitions in dictionary at byte 0x6c613d for key /Info\n",
      "Multiple definitions in dictionary at byte 0x6c614a for key /Info\n",
      " 80%|███████▉  | 17602/22138 [40:44<14:12,  5.32it/s]  Multiple definitions in dictionary at byte 0xd39c6 for key /Info\n",
      "Multiple definitions in dictionary at byte 0xd39d3 for key /Info\n",
      "Multiple definitions in dictionary at byte 0xd39e0 for key /Info\n",
      " 80%|███████▉  | 17647/22138 [40:47<04:30, 16.60it/s]Multiple definitions in dictionary at byte 0x151f7f for key /Info\n",
      "Multiple definitions in dictionary at byte 0x151f8c for key /Info\n",
      "Multiple definitions in dictionary at byte 0x151f99 for key /Info\n",
      " 84%|████████▍ | 18550/22138 [41:53<01:00, 59.77it/s]  Multiple definitions in dictionary at byte 0x2e745f for key /Info\n",
      "Multiple definitions in dictionary at byte 0x2e746c for key /Info\n",
      "Multiple definitions in dictionary at byte 0x2e7479 for key /Info\n",
      " 84%|████████▍ | 18592/22138 [42:10<09:03,  6.52it/s]Multiple definitions in dictionary at byte 0x106d2c for key /Info\n",
      "Multiple definitions in dictionary at byte 0x106d39 for key /Info\n",
      "Multiple definitions in dictionary at byte 0x106d46 for key /Info\n",
      " 84%|████████▍ | 18662/22138 [42:59<11:31,  5.03it/s]  Multiple definitions in dictionary at byte 0x8d582 for key /Info\n",
      "Multiple definitions in dictionary at byte 0x8d58f for key /Info\n",
      "Multiple definitions in dictionary at byte 0x8d59c for key /Info\n",
      " 84%|████████▍ | 18686/22138 [43:02<06:20,  9.06it/s]Multiple definitions in dictionary at byte 0x182b8e for key /Info\n",
      "Multiple definitions in dictionary at byte 0x182b9b for key /Info\n",
      "Multiple definitions in dictionary at byte 0x182ba8 for key /Info\n",
      " 84%|████████▍ | 18693/22138 [43:06<14:37,  3.93it/s]Multiple definitions in dictionary at byte 0x140839 for key /Info\n",
      "Multiple definitions in dictionary at byte 0x140846 for key /Info\n",
      "Multiple definitions in dictionary at byte 0x140853 for key /Info\n",
      " 87%|████████▋ | 19266/22138 [43:36<00:40, 70.96it/s]Multiple definitions in dictionary at byte 0x2084ee for key /Info\n",
      "Multiple definitions in dictionary at byte 0x2084fb for key /Info\n",
      "Multiple definitions in dictionary at byte 0x208508 for key /Info\n",
      " 87%|████████▋ | 19358/22138 [44:19<02:27, 18.91it/s]  Multiple definitions in dictionary at byte 0xf1ec4 for key /Info\n",
      "Multiple definitions in dictionary at byte 0xf1ed1 for key /Info\n",
      "Multiple definitions in dictionary at byte 0xf1ede for key /Info\n",
      " 88%|████████▊ | 19460/22138 [44:28<01:11, 37.43it/s]Multiple definitions in dictionary at byte 0x13e606 for key /Info\n",
      "Multiple definitions in dictionary at byte 0x13e613 for key /Info\n",
      "Multiple definitions in dictionary at byte 0x13e620 for key /Info\n",
      " 92%|█████████▏| 20306/22138 [46:13<00:31, 57.36it/s]  Multiple definitions in dictionary at byte 0x90b1a for key /Info\n",
      "Multiple definitions in dictionary at byte 0x90b27 for key /Info\n",
      "Multiple definitions in dictionary at byte 0x90b34 for key /Info\n",
      " 92%|█████████▏| 20437/22138 [46:18<00:33, 50.96it/s]Multiple definitions in dictionary at byte 0x153568 for key /Info\n",
      "Multiple definitions in dictionary at byte 0x153575 for key /Info\n",
      "Multiple definitions in dictionary at byte 0x153582 for key /Info\n",
      " 93%|█████████▎| 20515/22138 [46:24<00:40, 39.72it/s]Multiple definitions in dictionary at byte 0x1be6f7 for key /Info\n",
      "Multiple definitions in dictionary at byte 0x1be704 for key /Info\n",
      "Multiple definitions in dictionary at byte 0x1be711 for key /Info\n",
      " 97%|█████████▋| 21508/22138 [47:42<00:49, 12.66it/s]Multiple definitions in dictionary at byte 0xd209e for key /Info\n",
      "Multiple definitions in dictionary at byte 0xd20ab for key /Info\n",
      "Multiple definitions in dictionary at byte 0xd20b8 for key /Info\n",
      "100%|█████████▉| 22089/22138 [48:02<00:00, 62.89it/s]Multiple definitions in dictionary at byte 0x86e4f9 for key /Info\n",
      "Multiple definitions in dictionary at byte 0x86e506 for key /Info\n",
      "Multiple definitions in dictionary at byte 0x86e513 for key /Info\n",
      "100%|█████████▉| 22110/22138 [48:36<00:17,  1.58it/s]Multiple definitions in dictionary at byte 0xe0bda for key /Info\n",
      "Multiple definitions in dictionary at byte 0xe0be7 for key /Info\n",
      "Multiple definitions in dictionary at byte 0xe0bf4 for key /Info\n",
      "100%|██████████| 22138/22138 [48:39<00:00,  7.58it/s]\n",
      " 11%|█▏        | 1137/9905 [00:23<03:39, 39.92it/s]"
     ]
    },
    {
     "name": "stdout",
     "output_type": "stream",
     "text": [
      "/home/admin01/vadim/glossary/Канцелярия/Приказы ПО 2018 год/РАНХиГС-Приложение к  приказу 01-3109 от 28.05.2018.doc - тут живет ошибка\n"
     ]
    },
    {
     "name": "stderr",
     "output_type": "stream",
     "text": [
      " 18%|█▊        | 1786/9905 [00:39<02:22, 57.04it/s]"
     ]
    },
    {
     "name": "stdout",
     "output_type": "stream",
     "text": [
      "/home/admin01/vadim/glossary/Канцелярия/Приказы ПО 2018 год/Thumbs.db - тут живет ошибка\n"
     ]
    },
    {
     "name": "stderr",
     "output_type": "stream",
     "text": [
      " 41%|████      | 4062/9905 [01:25<03:25, 28.45it/s]"
     ]
    },
    {
     "name": "stdout",
     "output_type": "stream",
     "text": [
      "/home/admin01/vadim/glossary/Канцелярия/Приказы ПО 2018 год/Приложение №1 к приказу 01-3108 от  28.05.2018.doc - тут живет ошибка\n"
     ]
    },
    {
     "name": "stderr",
     "output_type": "stream",
     "text": [
      " 63%|██████▎   | 6229/9905 [02:06<00:46, 78.64it/s]"
     ]
    },
    {
     "name": "stdout",
     "output_type": "stream",
     "text": [
      "/home/admin01/vadim/glossary/Канцелярия/Приказы ПО 2018 год/Приложение №1 к приказу 01-3107 от  28.05.2018.docx - тут живет ошибка\n"
     ]
    },
    {
     "name": "stderr",
     "output_type": "stream",
     "text": [
      "100%|██████████| 9905/9905 [03:25<00:00, 48.15it/s]\n",
      "  5%|▍         | 334/7077 [13:58<5:27:16,  2.91s/it] "
     ]
    },
    {
     "name": "stdout",
     "output_type": "stream",
     "text": [
      "/home/admin01/vadim/glossary/Канцелярия/Приказы ПО Дело 01  2015 год/Приложение к приказу 01-7240.doc - тут живет ошибка\n"
     ]
    },
    {
     "name": "stderr",
     "output_type": "stream",
     "text": [
      "  8%|▊         | 579/7077 [25:44<3:12:11,  1.77s/it] "
     ]
    },
    {
     "name": "stdout",
     "output_type": "stream",
     "text": [
      "/home/admin01/vadim/glossary/Канцелярия/Приказы ПО Дело 01  2015 год/01-304-15(приложение).docx - тут живет ошибка\n"
     ]
    },
    {
     "name": "stderr",
     "output_type": "stream",
     "text": [
      "  9%|▊         | 602/7077 [26:34<5:39:46,  3.15s/it]"
     ]
    },
    {
     "name": "stdout",
     "output_type": "stream",
     "text": [
      "/home/admin01/vadim/glossary/Канцелярия/Приказы ПО Дело 01  2015 год/Доверенности.xlsx - тут живет ошибка\n"
     ]
    },
    {
     "name": "stderr",
     "output_type": "stream",
     "text": [
      " 18%|█▊        | 1259/7077 [1:06:33<8:53:32,  5.50s/it] "
     ]
    },
    {
     "name": "stdout",
     "output_type": "stream",
     "text": [
      "/home/admin01/vadim/glossary/Канцелярия/Приказы ПО Дело 01  2015 год/Thumbs.db - тут живет ошибка\n"
     ]
    },
    {
     "name": "stderr",
     "output_type": "stream",
     "text": [
      " 29%|██▉       | 2084/7077 [1:42:14<16:47:26, 12.11s/it]"
     ]
    },
    {
     "name": "stdout",
     "output_type": "stream",
     "text": [
      "/home/admin01/vadim/glossary/Канцелярия/Приказы ПО Дело 01  2015 год/Корректирующий табель 2015г.xls - тут живет ошибка\n"
     ]
    },
    {
     "name": "stderr",
     "output_type": "stream",
     "text": [
      " 37%|███▋      | 2584/7077 [2:09:15<2:41:16,  2.15s/it] "
     ]
    },
    {
     "name": "stdout",
     "output_type": "stream",
     "text": [
      "/home/admin01/vadim/glossary/Канцелярия/Приказы ПО Дело 01  2015 год/Приложение 2 к приказу 01-1295.xlsx - тут живет ошибка\n"
     ]
    },
    {
     "name": "stderr",
     "output_type": "stream",
     "text": [
      " 45%|████▍     | 3166/7077 [2:32:24<1:09:06,  1.06s/it] "
     ]
    },
    {
     "name": "stdout",
     "output_type": "stream",
     "text": [
      "/home/admin01/vadim/glossary/Канцелярия/Приказы ПО Дело 01  2015 год/Приложение 1 к приказу 6049 от 12.11.15г..docx - тут живет ошибка\n"
     ]
    },
    {
     "name": "stderr",
     "output_type": "stream",
     "text": [
      " 49%|████▉     | 3482/7077 [2:39:24<31:58,  1.87it/s]  "
     ]
    },
    {
     "name": "stdout",
     "output_type": "stream",
     "text": [
      "/home/admin01/vadim/glossary/Канцелярия/Приказы ПО Дело 01  2015 год/Приложение к приказу № 01-7425 от 31.12.2014.doc - тут живет ошибка\n"
     ]
    },
    {
     "name": "stderr",
     "output_type": "stream",
     "text": [
      " 93%|█████████▎| 6579/7077 [3:47:29<13:01,  1.57s/it]   "
     ]
    },
    {
     "name": "stdout",
     "output_type": "stream",
     "text": [
      "/home/admin01/vadim/glossary/Канцелярия/Приказы ПО Дело 01  2015 год/Приложение к приказу 01-3422 от 28.07.2015.doc - тут живет ошибка\n"
     ]
    },
    {
     "name": "stderr",
     "output_type": "stream",
     "text": [
      " 94%|█████████▎| 6626/7077 [3:48:25<07:18,  1.03it/s]"
     ]
    },
    {
     "name": "stdout",
     "output_type": "stream",
     "text": [
      "/home/admin01/vadim/glossary/Канцелярия/Приказы ПО Дело 01  2015 год/Приложение 2 к приказу 6049 от 12.11.15г. заполняется в электоронном виде.xlsx - тут живет ошибка\n"
     ]
    },
    {
     "name": "stderr",
     "output_type": "stream",
     "text": [
      "100%|█████████▉| 7050/7077 [3:57:40<00:27,  1.03s/it]"
     ]
    },
    {
     "name": "stdout",
     "output_type": "stream",
     "text": [
      "/home/admin01/vadim/glossary/Канцелярия/Приказы ПО Дело 01  2015 год/Приложение 2 к приказу 6049 от 12.11.15г..docx - тут живет ошибка\n"
     ]
    },
    {
     "name": "stderr",
     "output_type": "stream",
     "text": [
      "100%|██████████| 7077/7077 [3:58:25<00:00,  2.02s/it]\n",
      " 17%|█▋        | 129/775 [00:12<00:26, 24.37it/s]"
     ]
    },
    {
     "name": "stdout",
     "output_type": "stream",
     "text": [
      "/home/admin01/vadim/glossary/Канцелярия/Приказы по АХД 02 2016/Приложение к приказу 02-30 от 22.01.2016.xlsx - тут живет ошибка\n"
     ]
    },
    {
     "name": "stderr",
     "output_type": "stream",
     "text": [
      " 18%|█▊        | 142/775 [00:13<00:20, 30.48it/s]"
     ]
    },
    {
     "name": "stdout",
     "output_type": "stream",
     "text": [
      "/home/admin01/vadim/glossary/Канцелярия/Приказы по АХД 02 2016/Thumbs.db - тут живет ошибка\n"
     ]
    },
    {
     "name": "stderr",
     "output_type": "stream",
     "text": [
      " 90%|█████████ | 701/775 [02:21<00:04, 16.11it/s]"
     ]
    },
    {
     "name": "stdout",
     "output_type": "stream",
     "text": [
      "/home/admin01/vadim/glossary/Канцелярия/Приказы по АХД 02 2016/Приложения к приказу по ГРБС 02-29 от 22.01.2016.xlsx - тут живет ошибка\n"
     ]
    },
    {
     "name": "stderr",
     "output_type": "stream",
     "text": [
      "100%|██████████| 775/775 [02:29<00:00,  5.17it/s]\n",
      " 18%|█▊        | 164/897 [00:17<00:44, 16.66it/s]"
     ]
    },
    {
     "name": "stdout",
     "output_type": "stream",
     "text": [
      "/home/admin01/vadim/glossary/Канцелярия/Приказы АХД 2017 год/Thumbs.db - тут живет ошибка\n"
     ]
    },
    {
     "name": "stderr",
     "output_type": "stream",
     "text": [
      " 38%|███▊      | 337/897 [00:47<03:54,  2.39it/s]"
     ]
    },
    {
     "name": "stdout",
     "output_type": "stream",
     "text": [
      "/home/admin01/vadim/glossary/Канцелярия/Приказы АХД 2017 год/Приложение к приказу № 02-641 от 05.10.2017.xlsx - тут живет ошибка\n"
     ]
    },
    {
     "name": "stderr",
     "output_type": "stream",
     "text": [
      " 54%|█████▎    | 480/897 [03:10<02:26,  2.84it/s]  "
     ]
    },
    {
     "name": "stdout",
     "output_type": "stream",
     "text": [
      "/home/admin01/vadim/glossary/Канцелярия/Приказы АХД 2017 год/Приложение № 1 к приказу № 02-148 от 17.03.2017.xls - тут живет ошибка\n"
     ]
    },
    {
     "name": "stderr",
     "output_type": "stream",
     "text": [
      " 55%|█████▍    | 491/897 [03:11<01:27,  4.63it/s]"
     ]
    },
    {
     "name": "stdout",
     "output_type": "stream",
     "text": [
      "/home/admin01/vadim/glossary/Канцелярия/Приказы АХД 2017 год/Приложение 1 к приказу № 02-384от 16.06.2017.xlsx - тут живет ошибка\n"
     ]
    },
    {
     "name": "stderr",
     "output_type": "stream",
     "text": [
      " 79%|███████▉  | 712/897 [03:27<00:11, 15.51it/s]"
     ]
    },
    {
     "name": "stdout",
     "output_type": "stream",
     "text": [
      "/home/admin01/vadim/glossary/Канцелярия/Приказы АХД 2017 год/Приложение № 5 к приказу № 02-438 от 06.07.2017Перечeнь должностей.xlsx - тут живет ошибка\n"
     ]
    },
    {
     "name": "stderr",
     "output_type": "stream",
     "text": [
      " 80%|███████▉  | 716/897 [03:27<00:11, 15.43it/s]Multiple definitions in dictionary at byte 0xc86fc for key /Info\n",
      "Multiple definitions in dictionary at byte 0xc8709 for key /Info\n",
      "Multiple definitions in dictionary at byte 0xc8716 for key /Info\n",
      "100%|██████████| 897/897 [03:50<00:00,  3.89it/s]\n",
      " 29%|██▉       | 5/17 [00:05<00:13,  1.16s/it]"
     ]
    },
    {
     "name": "stdout",
     "output_type": "stream",
     "text": [
      "/home/admin01/vadim/glossary/Канцелярия/Все приказы 2008 года/Thumbs.db - тут живет ошибка\n"
     ]
    },
    {
     "name": "stderr",
     "output_type": "stream",
     "text": [
      "100%|██████████| 17/17 [00:21<00:00,  1.27s/it]\n",
      "  5%|▍         | 390/8018 [00:25<02:16, 55.96it/s]"
     ]
    },
    {
     "name": "stdout",
     "output_type": "stream",
     "text": [
      "/home/admin01/vadim/glossary/Канцелярия/Приказы ПО дело 01 2016/Форма концепции к приказу № 01-7837 от 13.12.2016.docx - тут живет ошибка\n"
     ]
    },
    {
     "name": "stderr",
     "output_type": "stream",
     "text": [
      "  7%|▋         | 571/8018 [00:29<02:45, 45.05it/s]"
     ]
    },
    {
     "name": "stdout",
     "output_type": "stream",
     "text": [
      "/home/admin01/vadim/glossary/Канцелярия/Приказы ПО дело 01 2016/Смета и пояснения к приказу № 01-7837 от 13.12.2016.xlsx - тут живет ошибка\n"
     ]
    },
    {
     "name": "stderr",
     "output_type": "stream",
     "text": [
      " 18%|█▊        | 1446/8018 [01:17<03:44, 29.27it/s]"
     ]
    },
    {
     "name": "stdout",
     "output_type": "stream",
     "text": [
      "/home/admin01/vadim/glossary/Канцелярия/Приказы ПО дело 01 2016/Thumbs.db - тут живет ошибка\n"
     ]
    },
    {
     "name": "stderr",
     "output_type": "stream",
     "text": [
      " 53%|█████▎    | 4267/8018 [04:41<01:31, 41.04it/s]  "
     ]
    },
    {
     "name": "stdout",
     "output_type": "stream",
     "text": [
      "/home/admin01/vadim/glossary/Канцелярия/Приказы ПО дело 01 2016/Сеть - Ярлык.lnk - тут живет ошибка\n"
     ]
    },
    {
     "name": "stderr",
     "output_type": "stream",
     "text": [
      " 72%|███████▏  | 5750/8018 [05:46<01:52, 20.08it/s]"
     ]
    },
    {
     "name": "stdout",
     "output_type": "stream",
     "text": [
      "/home/admin01/vadim/glossary/Канцелярия/Приказы ПО дело 01 2016/Приложение к приказу 01-1464 от 24.03.2016.xlsx - тут живет ошибка\n"
     ]
    },
    {
     "name": "stderr",
     "output_type": "stream",
     "text": [
      " 80%|███████▉  | 6379/8018 [06:22<00:33, 49.15it/s]"
     ]
    },
    {
     "name": "stdout",
     "output_type": "stream",
     "text": [
      "/home/admin01/vadim/glossary/Канцелярия/Приказы ПО дело 01 2016/Приложение 1 к приказу 01-4357 от 08.08.2016.doc - тут живет ошибка\n"
     ]
    },
    {
     "name": "stderr",
     "output_type": "stream",
     "text": [
      " 96%|█████████▌| 7689/8018 [10:40<00:30, 10.78it/s]  "
     ]
    },
    {
     "name": "stdout",
     "output_type": "stream",
     "text": [
      "/home/admin01/vadim/glossary/Канцелярия/Приказы ПО дело 01 2016/Приложение к приказу №  01-2661-16.doc - тут живет ошибка\n"
     ]
    },
    {
     "name": "stderr",
     "output_type": "stream",
     "text": [
      "100%|██████████| 8018/8018 [12:39<00:00, 10.55it/s]\n",
      "  3%|▎         | 199/6153 [04:50<4:44:20,  2.87s/it]unknown widths : \n",
      "[0, IndirectObject(109, 0, 139705029092848)]\n",
      "unknown widths : \n",
      "[0, IndirectObject(104, 0, 139705029092848)]\n",
      "  3%|▎         | 206/6153 [04:53<1:44:15,  1.05s/it]"
     ]
    },
    {
     "name": "stdout",
     "output_type": "stream",
     "text": [
      "/home/admin01/vadim/glossary/Канцелярия/Приказы ПО Дело  01 2014 год/01-4710-prilozh 2.doc - тут живет ошибка\n"
     ]
    },
    {
     "name": "stderr",
     "output_type": "stream",
     "text": [
      "  4%|▍         | 268/6153 [06:39<3:11:43,  1.95s/it]unknown widths : \n",
      "[0, IndirectObject(32, 0, 139704905379376)]\n",
      " 14%|█▍        | 891/6153 [20:45<47:16,  1.85it/s]   unknown widths : \n",
      "[0, IndirectObject(158, 0, 139705171576672)]\n",
      "unknown widths : \n",
      "[0, IndirectObject(161, 0, 139705171576672)]\n",
      "unknown widths : \n",
      "[0, IndirectObject(164, 0, 139705171576672)]\n",
      "unknown widths : \n",
      "[0, IndirectObject(167, 0, 139705171576672)]\n",
      "unknown widths : \n",
      "[0, IndirectObject(189, 0, 139705171576672)]\n",
      "unknown widths : \n",
      "[0, IndirectObject(192, 0, 139705171576672)]\n",
      "unknown widths : \n",
      "[0, IndirectObject(195, 0, 139705171576672)]\n",
      "unknown widths : \n",
      "[0, IndirectObject(198, 0, 139705171576672)]\n",
      " 16%|█▋        | 1009/6153 [22:58<1:10:30,  1.22it/s]"
     ]
    },
    {
     "name": "stdout",
     "output_type": "stream",
     "text": [
      "/home/admin01/vadim/glossary/Канцелярия/Приказы ПО Дело  01 2014 год/Приложение к приказу 01-7425 от 31.12.2014.doc - тут живет ошибка\n"
     ]
    },
    {
     "name": "stderr",
     "output_type": "stream",
     "text": [
      " 18%|█▊        | 1107/6153 [24:49<58:28,  1.44it/s]  "
     ]
    },
    {
     "name": "stdout",
     "output_type": "stream",
     "text": [
      "/home/admin01/vadim/glossary/Канцелярия/Приказы ПО Дело  01 2014 год/Thumbs.db - тут живет ошибка\n"
     ]
    },
    {
     "name": "stderr",
     "output_type": "stream",
     "text": [
      " 18%|█▊        | 1128/6153 [25:31<2:38:42,  1.90s/it]"
     ]
    },
    {
     "name": "stdout",
     "output_type": "stream",
     "text": [
      "/home/admin01/vadim/glossary/Канцелярия/Приказы ПО Дело  01 2014 год/01-4710-prilozh 1.doc - тут живет ошибка\n"
     ]
    },
    {
     "name": "stderr",
     "output_type": "stream",
     "text": [
      " 28%|██▊       | 1737/6153 [38:31<1:25:44,  1.17s/it]unknown widths : \n",
      "[0, IndirectObject(316, 0, 139709040883264)]\n",
      "unknown widths : \n",
      "[0, IndirectObject(309, 0, 139709040883264)]\n",
      "unknown widths : \n",
      "[0, IndirectObject(302, 0, 139709040883264)]\n",
      "unknown widths : \n",
      "[0, IndirectObject(332, 0, 139709040883264)]\n",
      " 29%|██▉       | 1800/6153 [40:06<2:39:58,  2.20s/it]unknown widths : \n",
      "[0, IndirectObject(116, 0, 139709040883264)]\n",
      "unknown widths : \n",
      "[0, IndirectObject(111, 0, 139709040883264)]\n",
      "unknown widths : \n",
      "[0, IndirectObject(106, 0, 139709040883264)]\n",
      "unknown widths : \n",
      "[0, IndirectObject(101, 0, 139709040883264)]\n",
      "unknown widths : \n",
      "[0, IndirectObject(96, 0, 139709040883264)]\n",
      "unknown widths : \n",
      "[0, IndirectObject(91, 0, 139709040883264)]\n",
      "unknown widths : \n",
      "[0, IndirectObject(86, 0, 139709040883264)]\n",
      "unknown widths : \n",
      "[0, IndirectObject(62, 0, 139709040883264)]\n",
      "unknown widths : \n",
      "[0, IndirectObject(55, 0, 139709040883264)]\n",
      "unknown widths : \n",
      "[0, IndirectObject(50, 0, 139709040883264)]\n",
      "unknown widths : \n",
      "[0, IndirectObject(45, 0, 139709040883264)]\n",
      "unknown widths : \n",
      "[0, IndirectObject(40, 0, 139709040883264)]\n",
      " 33%|███▎      | 2000/6153 [45:07<1:11:35,  1.03s/it]"
     ]
    },
    {
     "name": "stdout",
     "output_type": "stream",
     "text": [
      "/home/admin01/vadim/glossary/Канцелярия/Приказы ПО Дело  01 2014 год/01-2776-14 Приложение.xls - тут живет ошибка\n"
     ]
    },
    {
     "name": "stderr",
     "output_type": "stream",
     "text": [
      " 41%|████      | 2499/6153 [57:55<1:33:01,  1.53s/it] "
     ]
    },
    {
     "name": "stdout",
     "output_type": "stream",
     "text": [
      "/home/admin01/vadim/glossary/Канцелярия/Приказы ПО Дело  01 2014 год/01-7376-14.lnk - тут живет ошибка\n"
     ]
    },
    {
     "name": "stderr",
     "output_type": "stream",
     "text": [
      " 58%|█████▊    | 3551/6153 [1:29:46<1:19:25,  1.83s/it] unknown widths : \n",
      "[0, IndirectObject(57, 0, 139705029330832)]\n",
      "unknown widths : \n",
      "[0, IndirectObject(52, 0, 139705029330832)]\n",
      "unknown widths : \n",
      "[0, IndirectObject(47, 0, 139705029330832)]\n",
      "unknown widths : \n",
      "[0, IndirectObject(42, 0, 139705029330832)]\n",
      "unknown widths : \n",
      "[0, IndirectObject(37, 0, 139705029330832)]\n",
      " 58%|█████▊    | 3586/6153 [1:30:41<1:31:40,  2.14s/it]"
     ]
    },
    {
     "name": "stdout",
     "output_type": "stream",
     "text": [
      "/home/admin01/vadim/glossary/Канцелярия/Приказы ПО Дело  01 2014 год/№01-5511от 09.10.2014 г. Приложение.doc - тут живет ошибка\n"
     ]
    },
    {
     "name": "stderr",
     "output_type": "stream",
     "text": [
      " 59%|█████▊    | 3609/6153 [1:30:56<31:15,  1.36it/s]  "
     ]
    },
    {
     "name": "stdout",
     "output_type": "stream",
     "text": [
      "/home/admin01/vadim/glossary/Канцелярия/Приказы ПО Дело  01 2014 год/распоряжения-филиалы - тут живет ошибка\n"
     ]
    },
    {
     "name": "stderr",
     "output_type": "stream",
     "text": [
      " 59%|█████▉    | 3636/6153 [1:32:06<42:05,  1.00s/it]  unknown widths : \n",
      "[0, IndirectObject(106, 0, 139704905493728)]\n",
      "unknown widths : \n",
      "[0, IndirectObject(101, 0, 139704905493728)]\n",
      "unknown widths : \n",
      "[0, IndirectObject(96, 0, 139704905493728)]\n",
      "unknown widths : \n",
      "[0, IndirectObject(91, 0, 139704905493728)]\n",
      "unknown widths : \n",
      "[0, IndirectObject(86, 0, 139704905493728)]\n",
      "unknown widths : \n",
      "[0, IndirectObject(81, 0, 139704905493728)]\n",
      "unknown widths : \n",
      "[0, IndirectObject(76, 0, 139704905493728)]\n",
      "unknown widths : \n",
      "[0, IndirectObject(135, 0, 139704905493728)]\n",
      "unknown widths : \n",
      "[0, IndirectObject(130, 0, 139704905493728)]\n",
      "unknown widths : \n",
      "[0, IndirectObject(125, 0, 139704905493728)]\n",
      "unknown widths : \n",
      "[0, IndirectObject(29, 0, 139704905493728)]\n",
      "unknown widths : \n",
      "[0, IndirectObject(32, 0, 139704905493728)]\n",
      "unknown widths : \n",
      "[0, IndirectObject(35, 0, 139704905493728)]\n",
      " 70%|███████   | 4308/6153 [1:45:39<25:10,  1.22it/s]  unknown widths : \n",
      "[0, IndirectObject(100, 0, 139705029334624)]\n",
      "unknown widths : \n",
      "[0, IndirectObject(93, 0, 139705029334624)]\n",
      "unknown widths : \n",
      "[0, IndirectObject(112, 0, 139705029334624)]\n",
      "unknown widths : \n",
      "[0, IndirectObject(86, 0, 139705029334624)]\n",
      " 74%|███████▍  | 4583/6153 [1:52:13<24:58,  1.05it/s]  unknown widths : \n",
      "[0, IndirectObject(289, 0, 139704906137264)]\n",
      "unknown widths : \n",
      "[0, IndirectObject(284, 0, 139704906137264)]\n",
      "unknown widths : \n",
      "[0, IndirectObject(279, 0, 139704906137264)]\n",
      "unknown widths : \n",
      "[0, IndirectObject(274, 0, 139704906137264)]\n",
      "unknown widths : \n",
      "[0, IndirectObject(269, 0, 139704906137264)]\n",
      "unknown widths : \n",
      "[0, IndirectObject(264, 0, 139704906137264)]\n",
      "unknown widths : \n",
      "[0, IndirectObject(259, 0, 139704906137264)]\n",
      "unknown widths : \n",
      "[0, IndirectObject(254, 0, 139704906137264)]\n",
      "unknown widths : \n",
      "[0, IndirectObject(249, 0, 139704906137264)]\n",
      "unknown widths : \n",
      "[0, IndirectObject(244, 0, 139704906137264)]\n",
      "unknown widths : \n",
      "[0, IndirectObject(239, 0, 139704906137264)]\n",
      "unknown widths : \n",
      "[0, IndirectObject(234, 0, 139704906137264)]\n",
      "unknown widths : \n",
      "[0, IndirectObject(229, 0, 139704906137264)]\n",
      "unknown widths : \n",
      "[0, IndirectObject(197, 0, 139704906137264)]\n",
      "unknown widths : \n",
      "[0, IndirectObject(183, 0, 139704906137264)]\n",
      " 77%|███████▋  | 4752/6153 [1:56:09<18:17,  1.28it/s]  "
     ]
    },
    {
     "name": "stdout",
     "output_type": "stream",
     "text": [
      "/home/admin01/vadim/glossary/Канцелярия/Приказы ПО Дело  01 2014 год/приложение к приказу № 01-2711-14.xls - тут живет ошибка\n"
     ]
    },
    {
     "name": "stderr",
     "output_type": "stream",
     "text": [
      " 81%|████████▏ | 5013/6153 [2:01:29<18:09,  1.05it/s]  unknown widths : \n",
      "[0, IndirectObject(88, 0, 139705163925728)]\n",
      "unknown widths : \n",
      "[0, IndirectObject(83, 0, 139705163925728)]\n",
      "unknown widths : \n",
      "[0, IndirectObject(78, 0, 139705163925728)]\n",
      "unknown widths : \n",
      "[0, IndirectObject(73, 0, 139705163925728)]\n",
      "unknown widths : \n",
      "[0, IndirectObject(68, 0, 139705163925728)]\n",
      "unknown widths : \n",
      "[0, IndirectObject(63, 0, 139705163925728)]\n",
      "unknown widths : \n",
      "[0, IndirectObject(58, 0, 139705163925728)]\n",
      "unknown widths : \n",
      "[0, IndirectObject(53, 0, 139705163925728)]\n",
      "unknown widths : \n",
      "[0, IndirectObject(32, 0, 139705163925728)]\n",
      " 86%|████████▌ | 5293/6153 [2:07:23<13:45,  1.04it/s]  unknown widths : \n",
      "[0, IndirectObject(315, 0, 139705171579024)]\n",
      "unknown widths : \n",
      "[0, IndirectObject(310, 0, 139705171579024)]\n",
      "unknown widths : \n",
      "[0, IndirectObject(303, 0, 139705171579024)]\n",
      "unknown widths : \n",
      "[0, IndirectObject(296, 0, 139705171579024)]\n",
      "unknown widths : \n",
      "[0, IndirectObject(330, 0, 139705171579024)]\n",
      " 89%|████████▉ | 5497/6153 [2:12:04<16:17,  1.49s/it]  "
     ]
    },
    {
     "name": "stdout",
     "output_type": "stream",
     "text": [
      "/home/admin01/vadim/glossary/Канцелярия/Приказы ПО Дело  01 2014 год/01-7427-14 Приложение к Приказу.doc - тут живет ошибка\n"
     ]
    },
    {
     "name": "stderr",
     "output_type": "stream",
     "text": [
      " 94%|█████████▍| 5796/6153 [2:19:34<04:31,  1.32it/s]  unknown widths : \n",
      "[0, IndirectObject(288, 0, 139704906122960)]\n",
      "unknown widths : \n",
      "[0, IndirectObject(283, 0, 139704906122960)]\n",
      "unknown widths : \n",
      "[0, IndirectObject(278, 0, 139704906122960)]\n",
      "unknown widths : \n",
      "[0, IndirectObject(273, 0, 139704906122960)]\n",
      "unknown widths : \n",
      "[0, IndirectObject(268, 0, 139704906122960)]\n",
      "unknown widths : \n",
      "[0, IndirectObject(310, 0, 139704906122960)]\n",
      "unknown widths : \n",
      "[0, IndirectObject(305, 0, 139704906122960)]\n",
      " 95%|█████████▍| 5830/6153 [2:20:11<04:52,  1.10it/s]unknown widths : \n",
      "[0, IndirectObject(105, 0, 139705164382160)]\n",
      "unknown widths : \n",
      "[0, IndirectObject(98, 0, 139705164382160)]\n",
      "unknown widths : \n",
      "[0, IndirectObject(93, 0, 139705164382160)]\n",
      "unknown widths : \n",
      "[0, IndirectObject(86, 0, 139705164382160)]\n",
      "100%|██████████| 6153/6153 [2:28:57<00:00,  1.45s/it]\n",
      "  0%|          | 93/39968 [00:05<20:40, 32.14it/s]  Multiple definitions in dictionary at byte 0x16de91 for key /Info\n",
      "Multiple definitions in dictionary at byte 0x16de9e for key /Info\n",
      "Multiple definitions in dictionary at byte 0x16deab for key /Info\n",
      "  4%|▍         | 1617/39968 [00:33<07:23, 86.55it/s] Multiple definitions in dictionary at byte 0x99cca for key /Info\n",
      "Multiple definitions in dictionary at byte 0x99cd7 for key /Info\n",
      "Multiple definitions in dictionary at byte 0x99ce4 for key /Info\n",
      "  5%|▌         | 2070/39968 [00:46<07:03, 89.53it/s]  Multiple definitions in dictionary at byte 0x8e269 for key /Info\n",
      "Multiple definitions in dictionary at byte 0x8e276 for key /Info\n",
      "Multiple definitions in dictionary at byte 0x8e283 for key /Info\n",
      " 11%|█         | 4319/39968 [01:52<07:42, 77.06it/s]  Multiple definitions in dictionary at byte 0x128b68 for key /Info\n",
      "Multiple definitions in dictionary at byte 0x128b75 for key /Info\n",
      "Multiple definitions in dictionary at byte 0x128b82 for key /Info\n",
      " 12%|█▏        | 4868/39968 [02:05<08:42, 67.17it/s]  Multiple definitions in dictionary at byte 0xdaefb for key /Info\n",
      "Multiple definitions in dictionary at byte 0xdaf08 for key /Info\n",
      "Multiple definitions in dictionary at byte 0xdaf15 for key /Info\n",
      " 14%|█▍        | 5515/39968 [02:19<08:38, 66.44it/s]  Multiple definitions in dictionary at byte 0xe57b3 for key /Info\n",
      "Multiple definitions in dictionary at byte 0xe57c0 for key /Info\n",
      "Multiple definitions in dictionary at byte 0xe57cd for key /Info\n",
      " 14%|█▍        | 5719/39968 [02:25<09:10, 62.26it/s]  Multiple definitions in dictionary at byte 0xc0f60 for key /Info\n",
      "Multiple definitions in dictionary at byte 0xc0f6d for key /Info\n",
      "Multiple definitions in dictionary at byte 0xc0f7a for key /Info\n",
      " 18%|█▊        | 7202/39968 [03:04<12:23, 44.07it/s]  "
     ]
    },
    {
     "name": "stdout",
     "output_type": "stream",
     "text": [
      "/home/admin01/vadim/glossary/Канцелярия/Приказы ПО 2022 год/Thumbs.db - тут живет ошибка\n"
     ]
    },
    {
     "name": "stderr",
     "output_type": "stream",
     "text": [
      " 22%|██▏       | 8634/39968 [03:40<06:30, 80.28it/s]  Multiple definitions in dictionary at byte 0xab938 for key /Info\n",
      "Multiple definitions in dictionary at byte 0xab945 for key /Info\n",
      "Multiple definitions in dictionary at byte 0xab952 for key /Info\n",
      " 25%|██▍       | 9844/39968 [04:16<47:23, 10.59it/s]  Multiple definitions in dictionary at byte 0x96f7c for key /Info\n",
      "Multiple definitions in dictionary at byte 0x96f89 for key /Info\n",
      "Multiple definitions in dictionary at byte 0x96f96 for key /Info\n",
      " 25%|██▌       | 10012/39968 [04:21<06:34, 75.92it/s] Multiple definitions in dictionary at byte 0x18bcab for key /Info\n",
      "Multiple definitions in dictionary at byte 0x18bcb8 for key /Info\n",
      "Multiple definitions in dictionary at byte 0x18bcc5 for key /Info\n",
      " 29%|██▉       | 11694/39968 [05:08<20:48, 22.65it/s]  Multiple definitions in dictionary at byte 0x160c62 for key /Info\n",
      "Multiple definitions in dictionary at byte 0x160c6f for key /Info\n",
      "Multiple definitions in dictionary at byte 0x160c7c for key /Info\n",
      " 32%|███▏      | 12922/39968 [05:39<28:29, 15.82it/s]  Multiple definitions in dictionary at byte 0xa032d for key /Info\n",
      "Multiple definitions in dictionary at byte 0xa033a for key /Info\n",
      "Multiple definitions in dictionary at byte 0xa0347 for key /Info\n",
      " 36%|███▌      | 14359/39968 [06:05<05:46, 73.99it/s]Multiple definitions in dictionary at byte 0x1c275c for key /Info\n",
      "Multiple definitions in dictionary at byte 0x1c2769 for key /Info\n",
      "Multiple definitions in dictionary at byte 0x1c2776 for key /Info\n",
      " 37%|███▋      | 14790/39968 [06:26<11:04, 37.88it/s]  Multiple definitions in dictionary at byte 0xe0abe for key /Info\n",
      "Multiple definitions in dictionary at byte 0xe0acb for key /Info\n",
      "Multiple definitions in dictionary at byte 0xe0ad8 for key /Info\n",
      " 39%|███▉      | 15708/39968 [07:27<05:10, 78.12it/s]  Multiple definitions in dictionary at byte 0xf7717 for key /Info\n",
      "Multiple definitions in dictionary at byte 0xf7724 for key /Info\n",
      "Multiple definitions in dictionary at byte 0xf7731 for key /Info\n",
      " 41%|████      | 16316/39968 [07:45<09:48, 40.17it/s]Multiple definitions in dictionary at byte 0xa3769 for key /Info\n",
      "Multiple definitions in dictionary at byte 0xa3776 for key /Info\n",
      "Multiple definitions in dictionary at byte 0xa3783 for key /Info\n",
      " 41%|████▏     | 16527/39968 [07:51<07:50, 49.84it/s]Multiple definitions in dictionary at byte 0xa0e4f for key /Info\n",
      "Multiple definitions in dictionary at byte 0xa0e5c for key /Info\n",
      "Multiple definitions in dictionary at byte 0xa0e69 for key /Info\n",
      " 42%|████▏     | 16705/39968 [07:56<05:29, 70.59it/s]Multiple definitions in dictionary at byte 0x4d6bd9 for key /Info\n",
      "Multiple definitions in dictionary at byte 0x4d6be6 for key /Info\n",
      "Multiple definitions in dictionary at byte 0x4d6bf3 for key /Info\n",
      " 42%|████▏     | 16825/39968 [08:12<23:32, 16.38it/s]  Multiple definitions in dictionary at byte 0xafd93 for key /Info\n",
      "Multiple definitions in dictionary at byte 0xafda0 for key /Info\n",
      "Multiple definitions in dictionary at byte 0xafdad for key /Info\n",
      " 42%|████▏     | 16886/39968 [08:15<08:50, 43.55it/s]Multiple definitions in dictionary at byte 0xace09 for key /Info\n",
      "Multiple definitions in dictionary at byte 0xace16 for key /Info\n",
      "Multiple definitions in dictionary at byte 0xace23 for key /Info\n",
      " 43%|████▎     | 17006/39968 [08:22<08:38, 44.30it/s]Multiple definitions in dictionary at byte 0xa4e12 for key /Info\n",
      "Multiple definitions in dictionary at byte 0xa4e1f for key /Info\n",
      "Multiple definitions in dictionary at byte 0xa4e2c for key /Info\n",
      " 44%|████▍     | 17679/39968 [08:36<06:34, 56.49it/s]Multiple definitions in dictionary at byte 0x10bb83 for key /Info\n",
      "Multiple definitions in dictionary at byte 0x10bb90 for key /Info\n",
      "Multiple definitions in dictionary at byte 0x10bb9d for key /Info\n",
      " 45%|████▍     | 17839/39968 [08:44<06:47, 54.30it/s]Multiple definitions in dictionary at byte 0xf19e0 for key /Info\n",
      "Multiple definitions in dictionary at byte 0xf19ed for key /Info\n",
      "Multiple definitions in dictionary at byte 0xf19fa for key /Info\n",
      " 45%|████▌     | 18052/39968 [08:50<04:04, 89.70it/s]Multiple definitions in dictionary at byte 0x10e326 for key /Info\n",
      "Multiple definitions in dictionary at byte 0x10e333 for key /Info\n",
      "Multiple definitions in dictionary at byte 0x10e340 for key /Info\n",
      " 45%|████▌     | 18104/39968 [08:54<11:12, 32.49it/s]Multiple definitions in dictionary at byte 0x9f282 for key /Info\n",
      "Multiple definitions in dictionary at byte 0x9f28f for key /Info\n",
      "Multiple definitions in dictionary at byte 0x9f29c for key /Info\n",
      " 47%|████▋     | 18590/39968 [09:10<05:39, 62.95it/s]Multiple definitions in dictionary at byte 0xacc8b for key /Info\n",
      "Multiple definitions in dictionary at byte 0xacc98 for key /Info\n",
      "Multiple definitions in dictionary at byte 0xacca5 for key /Info\n",
      " 47%|████▋     | 18820/39968 [09:16<09:32, 36.94it/s]Multiple definitions in dictionary at byte 0x66034f for key /Info\n",
      "Multiple definitions in dictionary at byte 0x66035c for key /Info\n",
      "Multiple definitions in dictionary at byte 0x660369 for key /Info\n",
      " 51%|█████     | 20315/39968 [10:00<07:24, 44.20it/s]  Multiple definitions in dictionary at byte 0xb60f4 for key /Info\n",
      "Multiple definitions in dictionary at byte 0xb6101 for key /Info\n",
      "Multiple definitions in dictionary at byte 0xb610e for key /Info\n",
      " 56%|█████▌    | 22257/39968 [11:06<06:03, 48.73it/s]  Multiple definitions in dictionary at byte 0xa5b96 for key /Info\n",
      "Multiple definitions in dictionary at byte 0xa5ba3 for key /Info\n",
      "Multiple definitions in dictionary at byte 0xa5bb0 for key /Info\n",
      " 58%|█████▊    | 23174/39968 [11:32<03:46, 73.99it/s]  Multiple definitions in dictionary at byte 0x116349 for key /Info\n",
      "Multiple definitions in dictionary at byte 0x116356 for key /Info\n",
      "Multiple definitions in dictionary at byte 0x116363 for key /Info\n",
      " 64%|██████▎   | 25382/39968 [12:24<03:45, 64.70it/s]  Multiple definitions in dictionary at byte 0x29941a for key /Info\n",
      "Multiple definitions in dictionary at byte 0x299427 for key /Info\n",
      "Multiple definitions in dictionary at byte 0x299434 for key /Info\n",
      " 64%|██████▍   | 25757/39968 [12:42<03:13, 73.40it/s]  Multiple definitions in dictionary at byte 0xddfea for key /Info\n",
      "Multiple definitions in dictionary at byte 0xddff7 for key /Info\n",
      "Multiple definitions in dictionary at byte 0xde004 for key /Info\n",
      " 67%|██████▋   | 26820/39968 [13:09<03:21, 65.31it/s]  Multiple definitions in dictionary at byte 0x11a29d for key /Info\n",
      "Multiple definitions in dictionary at byte 0x11a2aa for key /Info\n",
      "Multiple definitions in dictionary at byte 0x11a2b7 for key /Info\n",
      " 67%|██████▋   | 26893/39968 [13:13<04:33, 47.85it/s]Multiple definitions in dictionary at byte 0xb9ae5 for key /Info\n",
      "Multiple definitions in dictionary at byte 0xb9af2 for key /Info\n",
      "Multiple definitions in dictionary at byte 0xb9aff for key /Info\n",
      " 68%|██████▊   | 27259/39968 [13:23<04:32, 46.60it/s]Multiple definitions in dictionary at byte 0x43d4ca for key /Info\n",
      "Multiple definitions in dictionary at byte 0x43d4d7 for key /Info\n",
      "Multiple definitions in dictionary at byte 0x43d4e4 for key /Info\n",
      " 70%|███████   | 27978/39968 [13:50<03:20, 59.72it/s]  "
     ]
    },
    {
     "name": "stdout",
     "output_type": "stream",
     "text": [
      "/home/admin01/vadim/glossary/Канцелярия/Приказы ПО 2022 год/01-159-22_Прил2.xlsx - тут живет ошибка\n"
     ]
    },
    {
     "name": "stderr",
     "output_type": "stream",
     "text": [
      " 70%|███████   | 27996/39968 [13:50<02:52, 69.43it/s]Multiple definitions in dictionary at byte 0xb6a9a for key /Info\n",
      "Multiple definitions in dictionary at byte 0xb6aa7 for key /Info\n",
      "Multiple definitions in dictionary at byte 0xb6ab4 for key /Info\n",
      " 70%|███████   | 28004/39968 [13:53<17:04, 11.68it/s]Multiple definitions in dictionary at byte 0x1f891c for key /Info\n",
      "Multiple definitions in dictionary at byte 0x1f8929 for key /Info\n",
      "Multiple definitions in dictionary at byte 0x1f8936 for key /Info\n",
      " 70%|███████   | 28046/39968 [13:59<13:28, 14.74it/s]Multiple definitions in dictionary at byte 0x310d7b for key /Info\n",
      "Multiple definitions in dictionary at byte 0x310d88 for key /Info\n",
      "Multiple definitions in dictionary at byte 0x310d95 for key /Info\n",
      " 70%|███████   | 28125/39968 [14:10<09:10, 21.51it/s]  Multiple definitions in dictionary at byte 0x9f32b for key /Info\n",
      "Multiple definitions in dictionary at byte 0x9f338 for key /Info\n",
      "Multiple definitions in dictionary at byte 0x9f345 for key /Info\n",
      " 74%|███████▎  | 29408/39968 [14:40<02:49, 62.38it/s]Multiple definitions in dictionary at byte 0x111e38 for key /Info\n",
      "Multiple definitions in dictionary at byte 0x111e45 for key /Info\n",
      "Multiple definitions in dictionary at byte 0x111e52 for key /Info\n",
      " 75%|███████▍  | 29784/39968 [14:54<02:14, 75.70it/s]Multiple definitions in dictionary at byte 0xa1f0f for key /Info\n",
      "Multiple definitions in dictionary at byte 0xa1f1c for key /Info\n",
      "Multiple definitions in dictionary at byte 0xa1f29 for key /Info\n",
      " 75%|███████▍  | 29807/39968 [14:56<08:29, 19.95it/s]Multiple definitions in dictionary at byte 0x15ea16 for key /Info\n",
      "Multiple definitions in dictionary at byte 0x15ea23 for key /Info\n",
      "Multiple definitions in dictionary at byte 0x15ea30 for key /Info\n",
      " 75%|███████▍  | 29917/39968 [15:02<02:15, 73.91it/s]"
     ]
    },
    {
     "name": "stdout",
     "output_type": "stream",
     "text": [
      "/home/admin01/vadim/glossary/Канцелярия/Приказы ПО 2022 год/сканы филиалы 02.08 - тут живет ошибка\n"
     ]
    },
    {
     "name": "stderr",
     "output_type": "stream",
     "text": [
      " 75%|███████▌  | 30092/39968 [15:07<02:46, 59.31it/s]Multiple definitions in dictionary at byte 0x1e8128 for key /Info\n",
      "Multiple definitions in dictionary at byte 0x1e8135 for key /Info\n",
      "Multiple definitions in dictionary at byte 0x1e8142 for key /Info\n",
      " 76%|███████▋  | 30556/39968 [15:20<02:16, 69.12it/s]Multiple definitions in dictionary at byte 0x21dd32 for key /Info\n",
      "Multiple definitions in dictionary at byte 0x21dd3f for key /Info\n",
      "Multiple definitions in dictionary at byte 0x21dd4c for key /Info\n",
      " 82%|████████▏ | 32687/39968 [16:33<01:39, 72.92it/s]  Multiple definitions in dictionary at byte 0x395404 for key /Info\n",
      "Multiple definitions in dictionary at byte 0x395411 for key /Info\n",
      "Multiple definitions in dictionary at byte 0x39541e for key /Info\n",
      " 82%|████████▏ | 32868/39968 [16:47<02:00, 58.85it/s]Multiple definitions in dictionary at byte 0xa66b8 for key /Info\n",
      "Multiple definitions in dictionary at byte 0xa66c5 for key /Info\n",
      "Multiple definitions in dictionary at byte 0xa66d2 for key /Info\n",
      " 83%|████████▎ | 33050/39968 [17:00<01:52, 61.37it/s]Multiple definitions in dictionary at byte 0x1f04aa for key /Info\n",
      "Multiple definitions in dictionary at byte 0x1f04b7 for key /Info\n",
      "Multiple definitions in dictionary at byte 0x1f04c4 for key /Info\n",
      " 85%|████████▍ | 33787/39968 [17:29<01:42, 60.20it/s]Multiple definitions in dictionary at byte 0xbd02a for key /Info\n",
      "Multiple definitions in dictionary at byte 0xbd037 for key /Info\n",
      "Multiple definitions in dictionary at byte 0xbd044 for key /Info\n",
      " 91%|█████████ | 36320/39968 [18:22<00:53, 68.53it/s]Multiple definitions in dictionary at byte 0xbb3fe for key /Info\n",
      "Multiple definitions in dictionary at byte 0xbb40b for key /Info\n",
      "Multiple definitions in dictionary at byte 0xbb418 for key /Info\n",
      " 91%|█████████▏| 36519/39968 [18:30<01:25, 40.28it/s]Multiple definitions in dictionary at byte 0x8cbd6 for key /Info\n",
      "Multiple definitions in dictionary at byte 0x8cbe3 for key /Info\n",
      "Multiple definitions in dictionary at byte 0x8cbf0 for key /Info\n",
      " 92%|█████████▏| 36646/39968 [18:34<00:44, 74.61it/s]Multiple definitions in dictionary at byte 0x9e8c1 for key /Info\n",
      "Multiple definitions in dictionary at byte 0x9e8ce for key /Info\n",
      "Multiple definitions in dictionary at byte 0x9e8db for key /Info\n",
      " 94%|█████████▍| 37617/39968 [18:56<00:32, 73.23it/s]Multiple definitions in dictionary at byte 0xa1fb4 for key /Info\n",
      "Multiple definitions in dictionary at byte 0xa1fc1 for key /Info\n",
      "Multiple definitions in dictionary at byte 0xa1fce for key /Info\n",
      " 96%|█████████▋| 38526/39968 [19:13<00:21, 66.24it/s]Multiple definitions in dictionary at byte 0x211897 for key /Info\n",
      "Multiple definitions in dictionary at byte 0x2118a4 for key /Info\n",
      "Multiple definitions in dictionary at byte 0x2118b1 for key /Info\n",
      " 97%|█████████▋| 38661/39968 [19:21<00:21, 60.28it/s]Multiple definitions in dictionary at byte 0x1f2626 for key /Info\n",
      "Multiple definitions in dictionary at byte 0x1f2633 for key /Info\n",
      "Multiple definitions in dictionary at byte 0x1f2640 for key /Info\n",
      " 98%|█████████▊| 39294/39968 [19:55<00:16, 42.08it/s]Multiple definitions in dictionary at byte 0xb0c5e for key /Info\n",
      "Multiple definitions in dictionary at byte 0xb0c6b for key /Info\n",
      "Multiple definitions in dictionary at byte 0xb0c78 for key /Info\n",
      " 98%|█████████▊| 39341/39968 [19:58<00:18, 34.10it/s]Multiple definitions in dictionary at byte 0x1f67e4 for key /Info\n",
      "Multiple definitions in dictionary at byte 0x1f67f1 for key /Info\n",
      "Multiple definitions in dictionary at byte 0x1f67fe for key /Info\n",
      " 98%|█████████▊| 39355/39968 [20:04<01:42,  5.97it/s]Multiple definitions in dictionary at byte 0x1af1fb for key /Info\n",
      "Multiple definitions in dictionary at byte 0x1af208 for key /Info\n",
      "Multiple definitions in dictionary at byte 0x1af215 for key /Info\n",
      "100%|██████████| 39968/39968 [20:20<00:00, 32.76it/s]\n",
      " 17%|█▋        | 702/4124 [27:21<2:21:20,  2.48s/it] "
     ]
    },
    {
     "name": "stdout",
     "output_type": "stream",
     "text": [
      "/home/admin01/vadim/glossary/Канцелярия/Все приказы 2011 года/Thumbs.db - тут живет ошибка\n"
     ]
    },
    {
     "name": "stderr",
     "output_type": "stream",
     "text": [
      " 31%|███▏      | 1289/4124 [48:36<1:17:44,  1.65s/it] "
     ]
    },
    {
     "name": "stdout",
     "output_type": "stream",
     "text": [
      "/home/admin01/vadim/glossary/Канцелярия/Все приказы 2011 года/sqlnet.log - тут живет ошибка\n"
     ]
    },
    {
     "name": "stderr",
     "output_type": "stream",
     "text": [
      " 60%|█████▉    | 2454/4124 [1:32:49<44:25,  1.60s/it]   "
     ]
    },
    {
     "name": "stdout",
     "output_type": "stream",
     "text": [
      "/home/admin01/vadim/glossary/Канцелярия/Все приказы 2011 года/Ярлык для 01-2502-11.lnk - тут живет ошибка\n"
     ]
    },
    {
     "name": "stderr",
     "output_type": "stream",
     "text": [
      " 84%|████████▎ | 3452/4124 [2:52:25<40:11,  3.59s/it]   "
     ]
    },
    {
     "name": "stdout",
     "output_type": "stream",
     "text": [
      "/home/admin01/vadim/glossary/Канцелярия/Все приказы 2011 года/01-2244-11 (2).pdf - тут живет ошибка\n"
     ]
    },
    {
     "name": "stderr",
     "output_type": "stream",
     "text": [
      "100%|██████████| 4124/4124 [4:02:20<00:00,  3.53s/it]  \n"
     ]
    }
   ],
   "source": [
    "base_path = '/home/admin01/vadim/glossary/data/Канцелярия'\n",
    "result_path = '/home/admin01/vadim/glossary/data/Результат'\n",
    "datafolder_collection = os.listdir(base_path)\n",
    "\n",
    "for datafolder in datafolder_collection:\n",
    "\n",
    "    path_to_datafolder = os.path.join(base_path, datafolder) # папка с пдф-ками по задаче глоссария\n",
    "\n",
    "    result = {'pdf': [],\n",
    "            'Текст из pdf': [],\n",
    "            'Цифровая pdf?': [],\n",
    "            'Хорошее качество текста?': []}\n",
    "\n",
    "\n",
    "    for pdf_name in tqdm(os.listdir(path_to_datafolder)):\n",
    "        pdf_name = path_to_datafolder + '/' + pdf_name\n",
    "\n",
    "        try:\n",
    "            pdf_text_info, is_digit, good_pdf_quality = get_info_from_pdf(pdf_name)\n",
    "        \n",
    "        except:\n",
    "            pdf_text_info = ['Ошибка считывания']\n",
    "            good_pdf_quality = None\n",
    "            is_digit = None\n",
    "            print(pdf_name, '- тут живет ошибка')\n",
    "\n",
    "        \n",
    "        result['pdf'].append(pdf_name)\n",
    "        result['Текст из pdf'].append(' '.join(pdf_text_info)) # обхединяем в строку: 1 строка - 1 целый pdf-документ\n",
    "        result['Цифровая pdf?'].append(is_digit)\n",
    "        result['Хорошее качество текста?'].append(good_pdf_quality)\n",
    "\n",
    "    df = pd.DataFrame(result)\n",
    "    \n",
    "    df.to_csv(os.path.join(result_path, datafolder + '.csv' ))"
   ]
  },
  {
   "cell_type": "code",
   "execution_count": null,
   "metadata": {},
   "outputs": [],
   "source": []
  }
 ],
 "metadata": {
  "kernelspec": {
   "display_name": "Python 3",
   "language": "python",
   "name": "python3"
  },
  "language_info": {
   "codemirror_mode": {
    "name": "ipython",
    "version": 3
   },
   "file_extension": ".py",
   "mimetype": "text/x-python",
   "name": "python",
   "nbconvert_exporter": "python",
   "pygments_lexer": "ipython3",
   "version": "3.10.13"
  }
 },
 "nbformat": 4,
 "nbformat_minor": 2
}
